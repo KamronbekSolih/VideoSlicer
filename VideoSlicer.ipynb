{
 "cells": [
  {
   "cell_type": "code",
   "execution_count": 1,
   "metadata": {},
   "outputs": [],
   "source": [
    "from moviepy.video.io.VideoFileClip import VideoFileClip\n",
    "import os"
   ]
  },
  {
   "cell_type": "code",
   "execution_count": 3,
   "metadata": {},
   "outputs": [
    {
     "name": "stdout",
     "output_type": "stream",
     "text": [
      "Moviepy - Building video D:/Sun'iyX/Data/Sliced/Add\\1224(11)_cut_0_5.mp4.\n",
      "MoviePy - Writing audio in 1224(11)_cut_0_5TEMP_MPY_wvf_snd.mp3\n"
     ]
    },
    {
     "name": "stderr",
     "output_type": "stream",
     "text": [
      "                                                                  \r"
     ]
    },
    {
     "name": "stdout",
     "output_type": "stream",
     "text": [
      "MoviePy - Done.\n",
      "Moviepy - Writing video D:/Sun'iyX/Data/Sliced/Add\\1224(11)_cut_0_5.mp4\n",
      "\n"
     ]
    },
    {
     "name": "stderr",
     "output_type": "stream",
     "text": [
      "                                                               \r"
     ]
    },
    {
     "name": "stdout",
     "output_type": "stream",
     "text": [
      "Moviepy - Done !\n",
      "Moviepy - video ready D:/Sun'iyX/Data/Sliced/Add\\1224(11)_cut_0_5.mp4\n",
      "Moviepy - Building video D:/Sun'iyX/Data/Sliced/Add\\1224(11)_cut_5_10.mp4.\n",
      "MoviePy - Writing audio in 1224(11)_cut_5_10TEMP_MPY_wvf_snd.mp3\n"
     ]
    },
    {
     "name": "stderr",
     "output_type": "stream",
     "text": [
      "                                                                  \r"
     ]
    },
    {
     "name": "stdout",
     "output_type": "stream",
     "text": [
      "MoviePy - Done.\n",
      "Moviepy - Writing video D:/Sun'iyX/Data/Sliced/Add\\1224(11)_cut_5_10.mp4\n",
      "\n"
     ]
    },
    {
     "name": "stderr",
     "output_type": "stream",
     "text": [
      "                                                              \r"
     ]
    },
    {
     "name": "stdout",
     "output_type": "stream",
     "text": [
      "Moviepy - Done !\n",
      "Moviepy - video ready D:/Sun'iyX/Data/Sliced/Add\\1224(11)_cut_5_10.mp4\n",
      "Moviepy - Building video D:/Sun'iyX/Data/Sliced/Add\\1224(11)_cut_10_15.mp4.\n",
      "MoviePy - Writing audio in 1224(11)_cut_10_15TEMP_MPY_wvf_snd.mp3\n"
     ]
    },
    {
     "name": "stderr",
     "output_type": "stream",
     "text": [
      "                                                                  \r"
     ]
    },
    {
     "name": "stdout",
     "output_type": "stream",
     "text": [
      "MoviePy - Done.\n",
      "Moviepy - Writing video D:/Sun'iyX/Data/Sliced/Add\\1224(11)_cut_10_15.mp4\n",
      "\n"
     ]
    },
    {
     "name": "stderr",
     "output_type": "stream",
     "text": [
      "                                                               \r"
     ]
    },
    {
     "name": "stdout",
     "output_type": "stream",
     "text": [
      "Moviepy - Done !\n",
      "Moviepy - video ready D:/Sun'iyX/Data/Sliced/Add\\1224(11)_cut_10_15.mp4\n",
      "Moviepy - Building video D:/Sun'iyX/Data/Sliced/Add\\1224(11)_cut_15_20.mp4.\n",
      "MoviePy - Writing audio in 1224(11)_cut_15_20TEMP_MPY_wvf_snd.mp3\n"
     ]
    },
    {
     "name": "stderr",
     "output_type": "stream",
     "text": [
      "                                                                  \r"
     ]
    },
    {
     "name": "stdout",
     "output_type": "stream",
     "text": [
      "MoviePy - Done.\n",
      "Moviepy - Writing video D:/Sun'iyX/Data/Sliced/Add\\1224(11)_cut_15_20.mp4\n",
      "\n"
     ]
    },
    {
     "name": "stderr",
     "output_type": "stream",
     "text": [
      "                                                              \r"
     ]
    },
    {
     "name": "stdout",
     "output_type": "stream",
     "text": [
      "Moviepy - Done !\n",
      "Moviepy - video ready D:/Sun'iyX/Data/Sliced/Add\\1224(11)_cut_15_20.mp4\n",
      "Moviepy - Building video D:/Sun'iyX/Data/Sliced/Add\\1224(11)_cut_20_25.mp4.\n",
      "MoviePy - Writing audio in 1224(11)_cut_20_25TEMP_MPY_wvf_snd.mp3\n"
     ]
    },
    {
     "name": "stderr",
     "output_type": "stream",
     "text": [
      "                                                                  \r"
     ]
    },
    {
     "name": "stdout",
     "output_type": "stream",
     "text": [
      "MoviePy - Done.\n",
      "Moviepy - Writing video D:/Sun'iyX/Data/Sliced/Add\\1224(11)_cut_20_25.mp4\n",
      "\n"
     ]
    },
    {
     "name": "stderr",
     "output_type": "stream",
     "text": [
      "                                                               \r"
     ]
    },
    {
     "name": "stdout",
     "output_type": "stream",
     "text": [
      "Moviepy - Done !\n",
      "Moviepy - video ready D:/Sun'iyX/Data/Sliced/Add\\1224(11)_cut_20_25.mp4\n",
      "Moviepy - Building video D:/Sun'iyX/Data/Sliced/Add\\1224(11)_cut_25_30.mp4.\n",
      "MoviePy - Writing audio in 1224(11)_cut_25_30TEMP_MPY_wvf_snd.mp3\n"
     ]
    },
    {
     "name": "stderr",
     "output_type": "stream",
     "text": [
      "                                                                  \r"
     ]
    },
    {
     "name": "stdout",
     "output_type": "stream",
     "text": [
      "MoviePy - Done.\n",
      "Moviepy - Writing video D:/Sun'iyX/Data/Sliced/Add\\1224(11)_cut_25_30.mp4\n",
      "\n"
     ]
    },
    {
     "name": "stderr",
     "output_type": "stream",
     "text": [
      "                                                              \r"
     ]
    },
    {
     "name": "stdout",
     "output_type": "stream",
     "text": [
      "Moviepy - Done !\n",
      "Moviepy - video ready D:/Sun'iyX/Data/Sliced/Add\\1224(11)_cut_25_30.mp4\n",
      "Moviepy - Building video D:/Sun'iyX/Data/Sliced/Add\\1224(11)_cut_30_35.mp4.\n",
      "MoviePy - Writing audio in 1224(11)_cut_30_35TEMP_MPY_wvf_snd.mp3\n"
     ]
    },
    {
     "name": "stderr",
     "output_type": "stream",
     "text": [
      "                                                                  \r"
     ]
    },
    {
     "name": "stdout",
     "output_type": "stream",
     "text": [
      "MoviePy - Done.\n",
      "Moviepy - Writing video D:/Sun'iyX/Data/Sliced/Add\\1224(11)_cut_30_35.mp4\n",
      "\n"
     ]
    },
    {
     "name": "stderr",
     "output_type": "stream",
     "text": [
      "                                                               \r"
     ]
    },
    {
     "name": "stdout",
     "output_type": "stream",
     "text": [
      "Moviepy - Done !\n",
      "Moviepy - video ready D:/Sun'iyX/Data/Sliced/Add\\1224(11)_cut_30_35.mp4\n",
      "Moviepy - Building video D:/Sun'iyX/Data/Sliced/Add\\1224(11)_cut_35_40.mp4.\n",
      "MoviePy - Writing audio in 1224(11)_cut_35_40TEMP_MPY_wvf_snd.mp3\n"
     ]
    },
    {
     "name": "stderr",
     "output_type": "stream",
     "text": [
      "                                                                  \r"
     ]
    },
    {
     "name": "stdout",
     "output_type": "stream",
     "text": [
      "MoviePy - Done.\n",
      "Moviepy - Writing video D:/Sun'iyX/Data/Sliced/Add\\1224(11)_cut_35_40.mp4\n",
      "\n"
     ]
    },
    {
     "name": "stderr",
     "output_type": "stream",
     "text": [
      "                                                              \r"
     ]
    },
    {
     "name": "stdout",
     "output_type": "stream",
     "text": [
      "Moviepy - Done !\n",
      "Moviepy - video ready D:/Sun'iyX/Data/Sliced/Add\\1224(11)_cut_35_40.mp4\n",
      "Moviepy - Building video D:/Sun'iyX/Data/Sliced/Add\\1224(11)_cut_40_45.mp4.\n",
      "MoviePy - Writing audio in 1224(11)_cut_40_45TEMP_MPY_wvf_snd.mp3\n"
     ]
    },
    {
     "name": "stderr",
     "output_type": "stream",
     "text": [
      "                                                                  \r"
     ]
    },
    {
     "name": "stdout",
     "output_type": "stream",
     "text": [
      "MoviePy - Done.\n",
      "Moviepy - Writing video D:/Sun'iyX/Data/Sliced/Add\\1224(11)_cut_40_45.mp4\n",
      "\n"
     ]
    },
    {
     "name": "stderr",
     "output_type": "stream",
     "text": [
      "                                                              \r"
     ]
    },
    {
     "name": "stdout",
     "output_type": "stream",
     "text": [
      "Moviepy - Done !\n",
      "Moviepy - video ready D:/Sun'iyX/Data/Sliced/Add\\1224(11)_cut_40_45.mp4\n",
      "Moviepy - Building video D:/Sun'iyX/Data/Sliced/Add\\1224(11)_cut_45_50.mp4.\n",
      "MoviePy - Writing audio in 1224(11)_cut_45_50TEMP_MPY_wvf_snd.mp3\n"
     ]
    },
    {
     "name": "stderr",
     "output_type": "stream",
     "text": [
      "                                                                  \r"
     ]
    },
    {
     "name": "stdout",
     "output_type": "stream",
     "text": [
      "MoviePy - Done.\n",
      "Moviepy - Writing video D:/Sun'iyX/Data/Sliced/Add\\1224(11)_cut_45_50.mp4\n",
      "\n"
     ]
    },
    {
     "name": "stderr",
     "output_type": "stream",
     "text": [
      "                                                              \r"
     ]
    },
    {
     "name": "stdout",
     "output_type": "stream",
     "text": [
      "Moviepy - Done !\n",
      "Moviepy - video ready D:/Sun'iyX/Data/Sliced/Add\\1224(11)_cut_45_50.mp4\n",
      "Moviepy - Building video D:/Sun'iyX/Data/Sliced/Add\\1224(11)_cut_50_55.mp4.\n",
      "MoviePy - Writing audio in 1224(11)_cut_50_55TEMP_MPY_wvf_snd.mp3\n"
     ]
    },
    {
     "name": "stderr",
     "output_type": "stream",
     "text": [
      "                                                                  \r"
     ]
    },
    {
     "name": "stdout",
     "output_type": "stream",
     "text": [
      "MoviePy - Done.\n",
      "Moviepy - Writing video D:/Sun'iyX/Data/Sliced/Add\\1224(11)_cut_50_55.mp4\n",
      "\n"
     ]
    },
    {
     "name": "stderr",
     "output_type": "stream",
     "text": [
      "                                                               \r"
     ]
    },
    {
     "name": "stdout",
     "output_type": "stream",
     "text": [
      "Moviepy - Done !\n",
      "Moviepy - video ready D:/Sun'iyX/Data/Sliced/Add\\1224(11)_cut_50_55.mp4\n",
      "Moviepy - Building video D:/Sun'iyX/Data/Sliced/Add\\1224(11)_cut_55_60.mp4.\n",
      "MoviePy - Writing audio in 1224(11)_cut_55_60TEMP_MPY_wvf_snd.mp3\n"
     ]
    },
    {
     "name": "stderr",
     "output_type": "stream",
     "text": [
      "                                                                  \r"
     ]
    },
    {
     "name": "stdout",
     "output_type": "stream",
     "text": [
      "MoviePy - Done.\n",
      "Moviepy - Writing video D:/Sun'iyX/Data/Sliced/Add\\1224(11)_cut_55_60.mp4\n",
      "\n"
     ]
    },
    {
     "name": "stderr",
     "output_type": "stream",
     "text": [
      "                                                               \r"
     ]
    },
    {
     "name": "stdout",
     "output_type": "stream",
     "text": [
      "Moviepy - Done !\n",
      "Moviepy - video ready D:/Sun'iyX/Data/Sliced/Add\\1224(11)_cut_55_60.mp4\n",
      "Moviepy - Building video D:/Sun'iyX/Data/Sliced/Add\\1224(11)_cut_60_65.mp4.\n",
      "MoviePy - Writing audio in 1224(11)_cut_60_65TEMP_MPY_wvf_snd.mp3\n"
     ]
    },
    {
     "name": "stderr",
     "output_type": "stream",
     "text": [
      "                                                                  \r"
     ]
    },
    {
     "name": "stdout",
     "output_type": "stream",
     "text": [
      "MoviePy - Done.\n",
      "Moviepy - Writing video D:/Sun'iyX/Data/Sliced/Add\\1224(11)_cut_60_65.mp4\n",
      "\n"
     ]
    },
    {
     "name": "stderr",
     "output_type": "stream",
     "text": [
      "                                                               \r"
     ]
    },
    {
     "name": "stdout",
     "output_type": "stream",
     "text": [
      "Moviepy - Done !\n",
      "Moviepy - video ready D:/Sun'iyX/Data/Sliced/Add\\1224(11)_cut_60_65.mp4\n",
      "Moviepy - Building video D:/Sun'iyX/Data/Sliced/Add\\1224(11)_cut_65_70.mp4.\n",
      "MoviePy - Writing audio in 1224(11)_cut_65_70TEMP_MPY_wvf_snd.mp3\n"
     ]
    },
    {
     "name": "stderr",
     "output_type": "stream",
     "text": [
      "                                                                  \r"
     ]
    },
    {
     "name": "stdout",
     "output_type": "stream",
     "text": [
      "MoviePy - Done.\n",
      "Moviepy - Writing video D:/Sun'iyX/Data/Sliced/Add\\1224(11)_cut_65_70.mp4\n",
      "\n"
     ]
    },
    {
     "name": "stderr",
     "output_type": "stream",
     "text": [
      "                                                               \r"
     ]
    },
    {
     "name": "stdout",
     "output_type": "stream",
     "text": [
      "Moviepy - Done !\n",
      "Moviepy - video ready D:/Sun'iyX/Data/Sliced/Add\\1224(11)_cut_65_70.mp4\n",
      "Moviepy - Building video D:/Sun'iyX/Data/Sliced/Add\\1224(11)_cut_70_75.mp4.\n",
      "MoviePy - Writing audio in 1224(11)_cut_70_75TEMP_MPY_wvf_snd.mp3\n"
     ]
    },
    {
     "name": "stderr",
     "output_type": "stream",
     "text": [
      "                                                                  \r"
     ]
    },
    {
     "name": "stdout",
     "output_type": "stream",
     "text": [
      "MoviePy - Done.\n",
      "Moviepy - Writing video D:/Sun'iyX/Data/Sliced/Add\\1224(11)_cut_70_75.mp4\n",
      "\n"
     ]
    },
    {
     "name": "stderr",
     "output_type": "stream",
     "text": [
      "                                                               \r"
     ]
    },
    {
     "name": "stdout",
     "output_type": "stream",
     "text": [
      "Moviepy - Done !\n",
      "Moviepy - video ready D:/Sun'iyX/Data/Sliced/Add\\1224(11)_cut_70_75.mp4\n",
      "Moviepy - Building video D:/Sun'iyX/Data/Sliced/Add\\1224(11)_cut_75_80.mp4.\n",
      "MoviePy - Writing audio in 1224(11)_cut_75_80TEMP_MPY_wvf_snd.mp3\n"
     ]
    },
    {
     "name": "stderr",
     "output_type": "stream",
     "text": [
      "                                                                  \r"
     ]
    },
    {
     "name": "stdout",
     "output_type": "stream",
     "text": [
      "MoviePy - Done.\n",
      "Moviepy - Writing video D:/Sun'iyX/Data/Sliced/Add\\1224(11)_cut_75_80.mp4\n",
      "\n"
     ]
    },
    {
     "name": "stderr",
     "output_type": "stream",
     "text": [
      "                                                               \r"
     ]
    },
    {
     "name": "stdout",
     "output_type": "stream",
     "text": [
      "Moviepy - Done !\n",
      "Moviepy - video ready D:/Sun'iyX/Data/Sliced/Add\\1224(11)_cut_75_80.mp4\n",
      "Moviepy - Building video D:/Sun'iyX/Data/Sliced/Add\\1224(11)_cut_80_85.mp4.\n",
      "MoviePy - Writing audio in 1224(11)_cut_80_85TEMP_MPY_wvf_snd.mp3\n"
     ]
    },
    {
     "name": "stderr",
     "output_type": "stream",
     "text": [
      "                                                                  \r"
     ]
    },
    {
     "name": "stdout",
     "output_type": "stream",
     "text": [
      "MoviePy - Done.\n",
      "Moviepy - Writing video D:/Sun'iyX/Data/Sliced/Add\\1224(11)_cut_80_85.mp4\n",
      "\n"
     ]
    },
    {
     "name": "stderr",
     "output_type": "stream",
     "text": [
      "                                                               \r"
     ]
    },
    {
     "name": "stdout",
     "output_type": "stream",
     "text": [
      "Moviepy - Done !\n",
      "Moviepy - video ready D:/Sun'iyX/Data/Sliced/Add\\1224(11)_cut_80_85.mp4\n",
      "Moviepy - Building video D:/Sun'iyX/Data/Sliced/Add\\1224(11)_cut_85_90.mp4.\n",
      "MoviePy - Writing audio in 1224(11)_cut_85_90TEMP_MPY_wvf_snd.mp3\n"
     ]
    },
    {
     "name": "stderr",
     "output_type": "stream",
     "text": [
      "                                                                  \r"
     ]
    },
    {
     "name": "stdout",
     "output_type": "stream",
     "text": [
      "MoviePy - Done.\n",
      "Moviepy - Writing video D:/Sun'iyX/Data/Sliced/Add\\1224(11)_cut_85_90.mp4\n",
      "\n"
     ]
    },
    {
     "name": "stderr",
     "output_type": "stream",
     "text": [
      "                                                               \r"
     ]
    },
    {
     "name": "stdout",
     "output_type": "stream",
     "text": [
      "Moviepy - Done !\n",
      "Moviepy - video ready D:/Sun'iyX/Data/Sliced/Add\\1224(11)_cut_85_90.mp4\n",
      "Moviepy - Building video D:/Sun'iyX/Data/Sliced/Add\\1224(11)_cut_90_95.mp4.\n",
      "MoviePy - Writing audio in 1224(11)_cut_90_95TEMP_MPY_wvf_snd.mp3\n"
     ]
    },
    {
     "name": "stderr",
     "output_type": "stream",
     "text": [
      "                                                                  \r"
     ]
    },
    {
     "name": "stdout",
     "output_type": "stream",
     "text": [
      "MoviePy - Done.\n",
      "Moviepy - Writing video D:/Sun'iyX/Data/Sliced/Add\\1224(11)_cut_90_95.mp4\n",
      "\n"
     ]
    },
    {
     "name": "stderr",
     "output_type": "stream",
     "text": [
      "                                                              \r"
     ]
    },
    {
     "name": "stdout",
     "output_type": "stream",
     "text": [
      "Moviepy - Done !\n",
      "Moviepy - video ready D:/Sun'iyX/Data/Sliced/Add\\1224(11)_cut_90_95.mp4\n",
      "Moviepy - Building video D:/Sun'iyX/Data/Sliced/Add\\1224(11)_cut_95_100.mp4.\n",
      "MoviePy - Writing audio in 1224(11)_cut_95_100TEMP_MPY_wvf_snd.mp3\n"
     ]
    },
    {
     "name": "stderr",
     "output_type": "stream",
     "text": [
      "                                                                  \r"
     ]
    },
    {
     "name": "stdout",
     "output_type": "stream",
     "text": [
      "MoviePy - Done.\n",
      "Moviepy - Writing video D:/Sun'iyX/Data/Sliced/Add\\1224(11)_cut_95_100.mp4\n",
      "\n"
     ]
    },
    {
     "name": "stderr",
     "output_type": "stream",
     "text": [
      "                                                               \r"
     ]
    },
    {
     "name": "stdout",
     "output_type": "stream",
     "text": [
      "Moviepy - Done !\n",
      "Moviepy - video ready D:/Sun'iyX/Data/Sliced/Add\\1224(11)_cut_95_100.mp4\n",
      "Moviepy - Building video D:/Sun'iyX/Data/Sliced/Add\\1224(11)_cut_100_105.mp4.\n",
      "MoviePy - Writing audio in 1224(11)_cut_100_105TEMP_MPY_wvf_snd.mp3\n"
     ]
    },
    {
     "name": "stderr",
     "output_type": "stream",
     "text": [
      "                                                                  \r"
     ]
    },
    {
     "name": "stdout",
     "output_type": "stream",
     "text": [
      "MoviePy - Done.\n",
      "Moviepy - Writing video D:/Sun'iyX/Data/Sliced/Add\\1224(11)_cut_100_105.mp4\n",
      "\n"
     ]
    },
    {
     "name": "stderr",
     "output_type": "stream",
     "text": [
      "                                                               \r"
     ]
    },
    {
     "name": "stdout",
     "output_type": "stream",
     "text": [
      "Moviepy - Done !\n",
      "Moviepy - video ready D:/Sun'iyX/Data/Sliced/Add\\1224(11)_cut_100_105.mp4\n",
      "Moviepy - Building video D:/Sun'iyX/Data/Sliced/Add\\1224(11)_cut_105_110.mp4.\n",
      "MoviePy - Writing audio in 1224(11)_cut_105_110TEMP_MPY_wvf_snd.mp3\n"
     ]
    },
    {
     "name": "stderr",
     "output_type": "stream",
     "text": [
      "                                                                  \r"
     ]
    },
    {
     "name": "stdout",
     "output_type": "stream",
     "text": [
      "MoviePy - Done.\n",
      "Moviepy - Writing video D:/Sun'iyX/Data/Sliced/Add\\1224(11)_cut_105_110.mp4\n",
      "\n"
     ]
    },
    {
     "name": "stderr",
     "output_type": "stream",
     "text": [
      "                                                              \r"
     ]
    },
    {
     "name": "stdout",
     "output_type": "stream",
     "text": [
      "Moviepy - Done !\n",
      "Moviepy - video ready D:/Sun'iyX/Data/Sliced/Add\\1224(11)_cut_105_110.mp4\n",
      "Moviepy - Building video D:/Sun'iyX/Data/Sliced/Add\\1224(11)_cut_110_115.mp4.\n",
      "MoviePy - Writing audio in 1224(11)_cut_110_115TEMP_MPY_wvf_snd.mp3\n"
     ]
    },
    {
     "name": "stderr",
     "output_type": "stream",
     "text": [
      "                                                                  \r"
     ]
    },
    {
     "name": "stdout",
     "output_type": "stream",
     "text": [
      "MoviePy - Done.\n",
      "Moviepy - Writing video D:/Sun'iyX/Data/Sliced/Add\\1224(11)_cut_110_115.mp4\n",
      "\n"
     ]
    },
    {
     "name": "stderr",
     "output_type": "stream",
     "text": [
      "                                                               \r"
     ]
    },
    {
     "name": "stdout",
     "output_type": "stream",
     "text": [
      "Moviepy - Done !\n",
      "Moviepy - video ready D:/Sun'iyX/Data/Sliced/Add\\1224(11)_cut_110_115.mp4\n",
      "Moviepy - Building video D:/Sun'iyX/Data/Sliced/Add\\1224(11)_cut_115_120.mp4.\n",
      "MoviePy - Writing audio in 1224(11)_cut_115_120TEMP_MPY_wvf_snd.mp3\n"
     ]
    },
    {
     "name": "stderr",
     "output_type": "stream",
     "text": [
      "                                                                  \r"
     ]
    },
    {
     "name": "stdout",
     "output_type": "stream",
     "text": [
      "MoviePy - Done.\n",
      "Moviepy - Writing video D:/Sun'iyX/Data/Sliced/Add\\1224(11)_cut_115_120.mp4\n",
      "\n"
     ]
    },
    {
     "name": "stderr",
     "output_type": "stream",
     "text": [
      "                                                               \r"
     ]
    },
    {
     "name": "stdout",
     "output_type": "stream",
     "text": [
      "Moviepy - Done !\n",
      "Moviepy - video ready D:/Sun'iyX/Data/Sliced/Add\\1224(11)_cut_115_120.mp4\n",
      "Moviepy - Building video D:/Sun'iyX/Data/Sliced/Add\\1224(11)_cut_120_125.mp4.\n",
      "MoviePy - Writing audio in 1224(11)_cut_120_125TEMP_MPY_wvf_snd.mp3\n"
     ]
    },
    {
     "name": "stderr",
     "output_type": "stream",
     "text": [
      "                                                                  \r"
     ]
    },
    {
     "name": "stdout",
     "output_type": "stream",
     "text": [
      "MoviePy - Done.\n",
      "Moviepy - Writing video D:/Sun'iyX/Data/Sliced/Add\\1224(11)_cut_120_125.mp4\n",
      "\n"
     ]
    },
    {
     "name": "stderr",
     "output_type": "stream",
     "text": [
      "                                                               \r"
     ]
    },
    {
     "name": "stdout",
     "output_type": "stream",
     "text": [
      "Moviepy - Done !\n",
      "Moviepy - video ready D:/Sun'iyX/Data/Sliced/Add\\1224(11)_cut_120_125.mp4\n",
      "Moviepy - Building video D:/Sun'iyX/Data/Sliced/Add\\1224(11)_cut_125_130.mp4.\n",
      "MoviePy - Writing audio in 1224(11)_cut_125_130TEMP_MPY_wvf_snd.mp3\n"
     ]
    },
    {
     "name": "stderr",
     "output_type": "stream",
     "text": [
      "                                                                  \r"
     ]
    },
    {
     "name": "stdout",
     "output_type": "stream",
     "text": [
      "MoviePy - Done.\n",
      "Moviepy - Writing video D:/Sun'iyX/Data/Sliced/Add\\1224(11)_cut_125_130.mp4\n",
      "\n"
     ]
    },
    {
     "name": "stderr",
     "output_type": "stream",
     "text": [
      "                                                               \r"
     ]
    },
    {
     "name": "stdout",
     "output_type": "stream",
     "text": [
      "Moviepy - Done !\n",
      "Moviepy - video ready D:/Sun'iyX/Data/Sliced/Add\\1224(11)_cut_125_130.mp4\n",
      "Moviepy - Building video D:/Sun'iyX/Data/Sliced/Add\\1224(11)_cut_130_135.mp4.\n",
      "MoviePy - Writing audio in 1224(11)_cut_130_135TEMP_MPY_wvf_snd.mp3\n"
     ]
    },
    {
     "name": "stderr",
     "output_type": "stream",
     "text": [
      "                                                                  \r"
     ]
    },
    {
     "name": "stdout",
     "output_type": "stream",
     "text": [
      "MoviePy - Done.\n",
      "Moviepy - Writing video D:/Sun'iyX/Data/Sliced/Add\\1224(11)_cut_130_135.mp4\n",
      "\n"
     ]
    },
    {
     "name": "stderr",
     "output_type": "stream",
     "text": [
      "                                                               \r"
     ]
    },
    {
     "name": "stdout",
     "output_type": "stream",
     "text": [
      "Moviepy - Done !\n",
      "Moviepy - video ready D:/Sun'iyX/Data/Sliced/Add\\1224(11)_cut_130_135.mp4\n",
      "Moviepy - Building video D:/Sun'iyX/Data/Sliced/Add\\1224(11)_cut_135_140.mp4.\n",
      "MoviePy - Writing audio in 1224(11)_cut_135_140TEMP_MPY_wvf_snd.mp3\n"
     ]
    },
    {
     "name": "stderr",
     "output_type": "stream",
     "text": [
      "                                                                  \r"
     ]
    },
    {
     "name": "stdout",
     "output_type": "stream",
     "text": [
      "MoviePy - Done.\n",
      "Moviepy - Writing video D:/Sun'iyX/Data/Sliced/Add\\1224(11)_cut_135_140.mp4\n",
      "\n"
     ]
    },
    {
     "name": "stderr",
     "output_type": "stream",
     "text": [
      "                                                               \r"
     ]
    },
    {
     "name": "stdout",
     "output_type": "stream",
     "text": [
      "Moviepy - Done !\n",
      "Moviepy - video ready D:/Sun'iyX/Data/Sliced/Add\\1224(11)_cut_135_140.mp4\n",
      "Moviepy - Building video D:/Sun'iyX/Data/Sliced/Add\\1224(11)_cut_140_145.mp4.\n",
      "MoviePy - Writing audio in 1224(11)_cut_140_145TEMP_MPY_wvf_snd.mp3\n"
     ]
    },
    {
     "name": "stderr",
     "output_type": "stream",
     "text": [
      "                                                                  \r"
     ]
    },
    {
     "name": "stdout",
     "output_type": "stream",
     "text": [
      "MoviePy - Done.\n",
      "Moviepy - Writing video D:/Sun'iyX/Data/Sliced/Add\\1224(11)_cut_140_145.mp4\n",
      "\n"
     ]
    },
    {
     "name": "stderr",
     "output_type": "stream",
     "text": [
      "                                                               \r"
     ]
    },
    {
     "name": "stdout",
     "output_type": "stream",
     "text": [
      "Moviepy - Done !\n",
      "Moviepy - video ready D:/Sun'iyX/Data/Sliced/Add\\1224(11)_cut_140_145.mp4\n",
      "Moviepy - Building video D:/Sun'iyX/Data/Sliced/Add\\1224(11)_cut_145_150.mp4.\n",
      "MoviePy - Writing audio in 1224(11)_cut_145_150TEMP_MPY_wvf_snd.mp3\n"
     ]
    },
    {
     "name": "stderr",
     "output_type": "stream",
     "text": [
      "                                                                  \r"
     ]
    },
    {
     "name": "stdout",
     "output_type": "stream",
     "text": [
      "MoviePy - Done.\n",
      "Moviepy - Writing video D:/Sun'iyX/Data/Sliced/Add\\1224(11)_cut_145_150.mp4\n",
      "\n"
     ]
    },
    {
     "name": "stderr",
     "output_type": "stream",
     "text": [
      "                                                               \r"
     ]
    },
    {
     "name": "stdout",
     "output_type": "stream",
     "text": [
      "Moviepy - Done !\n",
      "Moviepy - video ready D:/Sun'iyX/Data/Sliced/Add\\1224(11)_cut_145_150.mp4\n",
      "Moviepy - Building video D:/Sun'iyX/Data/Sliced/Add\\1224(11)_cut_150_155.mp4.\n",
      "MoviePy - Writing audio in 1224(11)_cut_150_155TEMP_MPY_wvf_snd.mp3\n"
     ]
    },
    {
     "name": "stderr",
     "output_type": "stream",
     "text": [
      "                                                                  \r"
     ]
    },
    {
     "name": "stdout",
     "output_type": "stream",
     "text": [
      "MoviePy - Done.\n",
      "Moviepy - Writing video D:/Sun'iyX/Data/Sliced/Add\\1224(11)_cut_150_155.mp4\n",
      "\n"
     ]
    },
    {
     "name": "stderr",
     "output_type": "stream",
     "text": [
      "                                                              \r"
     ]
    },
    {
     "name": "stdout",
     "output_type": "stream",
     "text": [
      "Moviepy - Done !\n",
      "Moviepy - video ready D:/Sun'iyX/Data/Sliced/Add\\1224(11)_cut_150_155.mp4\n",
      "Moviepy - Building video D:/Sun'iyX/Data/Sliced/Add\\1224(11)_cut_155_160.mp4.\n",
      "MoviePy - Writing audio in 1224(11)_cut_155_160TEMP_MPY_wvf_snd.mp3\n"
     ]
    },
    {
     "name": "stderr",
     "output_type": "stream",
     "text": [
      "                                                                  \r"
     ]
    },
    {
     "name": "stdout",
     "output_type": "stream",
     "text": [
      "MoviePy - Done.\n",
      "Moviepy - Writing video D:/Sun'iyX/Data/Sliced/Add\\1224(11)_cut_155_160.mp4\n",
      "\n"
     ]
    },
    {
     "name": "stderr",
     "output_type": "stream",
     "text": [
      "                                                              \r"
     ]
    },
    {
     "name": "stdout",
     "output_type": "stream",
     "text": [
      "Moviepy - Done !\n",
      "Moviepy - video ready D:/Sun'iyX/Data/Sliced/Add\\1224(11)_cut_155_160.mp4\n",
      "Moviepy - Building video D:/Sun'iyX/Data/Sliced/Add\\1224(11)_cut_160_165.mp4.\n",
      "MoviePy - Writing audio in 1224(11)_cut_160_165TEMP_MPY_wvf_snd.mp3\n"
     ]
    },
    {
     "name": "stderr",
     "output_type": "stream",
     "text": [
      "                                                                  \r"
     ]
    },
    {
     "name": "stdout",
     "output_type": "stream",
     "text": [
      "MoviePy - Done.\n",
      "Moviepy - Writing video D:/Sun'iyX/Data/Sliced/Add\\1224(11)_cut_160_165.mp4\n",
      "\n"
     ]
    },
    {
     "name": "stderr",
     "output_type": "stream",
     "text": [
      "                                                               \r"
     ]
    },
    {
     "name": "stdout",
     "output_type": "stream",
     "text": [
      "Moviepy - Done !\n",
      "Moviepy - video ready D:/Sun'iyX/Data/Sliced/Add\\1224(11)_cut_160_165.mp4\n",
      "Moviepy - Building video D:/Sun'iyX/Data/Sliced/Add\\1224(11)_cut_165_170.mp4.\n",
      "MoviePy - Writing audio in 1224(11)_cut_165_170TEMP_MPY_wvf_snd.mp3\n"
     ]
    },
    {
     "name": "stderr",
     "output_type": "stream",
     "text": [
      "                                                                  \r"
     ]
    },
    {
     "name": "stdout",
     "output_type": "stream",
     "text": [
      "MoviePy - Done.\n",
      "Moviepy - Writing video D:/Sun'iyX/Data/Sliced/Add\\1224(11)_cut_165_170.mp4\n",
      "\n"
     ]
    },
    {
     "name": "stderr",
     "output_type": "stream",
     "text": [
      "                                                               \r"
     ]
    },
    {
     "name": "stdout",
     "output_type": "stream",
     "text": [
      "Moviepy - Done !\n",
      "Moviepy - video ready D:/Sun'iyX/Data/Sliced/Add\\1224(11)_cut_165_170.mp4\n",
      "Moviepy - Building video D:/Sun'iyX/Data/Sliced/Add\\1224(11)_cut_170_175.mp4.\n",
      "MoviePy - Writing audio in 1224(11)_cut_170_175TEMP_MPY_wvf_snd.mp3\n"
     ]
    },
    {
     "name": "stderr",
     "output_type": "stream",
     "text": [
      "                                                                  \r"
     ]
    },
    {
     "name": "stdout",
     "output_type": "stream",
     "text": [
      "MoviePy - Done.\n",
      "Moviepy - Writing video D:/Sun'iyX/Data/Sliced/Add\\1224(11)_cut_170_175.mp4\n",
      "\n"
     ]
    },
    {
     "name": "stderr",
     "output_type": "stream",
     "text": [
      "                                                               \r"
     ]
    },
    {
     "name": "stdout",
     "output_type": "stream",
     "text": [
      "Moviepy - Done !\n",
      "Moviepy - video ready D:/Sun'iyX/Data/Sliced/Add\\1224(11)_cut_170_175.mp4\n",
      "Moviepy - Building video D:/Sun'iyX/Data/Sliced/Add\\1224(11)_cut_175_180.mp4.\n",
      "MoviePy - Writing audio in 1224(11)_cut_175_180TEMP_MPY_wvf_snd.mp3\n"
     ]
    },
    {
     "name": "stderr",
     "output_type": "stream",
     "text": [
      "                                                                  \r"
     ]
    },
    {
     "name": "stdout",
     "output_type": "stream",
     "text": [
      "MoviePy - Done.\n",
      "Moviepy - Writing video D:/Sun'iyX/Data/Sliced/Add\\1224(11)_cut_175_180.mp4\n",
      "\n"
     ]
    },
    {
     "name": "stderr",
     "output_type": "stream",
     "text": [
      "                                                              \r"
     ]
    },
    {
     "name": "stdout",
     "output_type": "stream",
     "text": [
      "Moviepy - Done !\n",
      "Moviepy - video ready D:/Sun'iyX/Data/Sliced/Add\\1224(11)_cut_175_180.mp4\n",
      "Moviepy - Building video D:/Sun'iyX/Data/Sliced/Add\\1224(11)_cut_180_185.mp4.\n",
      "MoviePy - Writing audio in 1224(11)_cut_180_185TEMP_MPY_wvf_snd.mp3\n"
     ]
    },
    {
     "name": "stderr",
     "output_type": "stream",
     "text": [
      "                                                                  \r"
     ]
    },
    {
     "name": "stdout",
     "output_type": "stream",
     "text": [
      "MoviePy - Done.\n",
      "Moviepy - Writing video D:/Sun'iyX/Data/Sliced/Add\\1224(11)_cut_180_185.mp4\n",
      "\n"
     ]
    },
    {
     "name": "stderr",
     "output_type": "stream",
     "text": [
      "                                                               \r"
     ]
    },
    {
     "name": "stdout",
     "output_type": "stream",
     "text": [
      "Moviepy - Done !\n",
      "Moviepy - video ready D:/Sun'iyX/Data/Sliced/Add\\1224(11)_cut_180_185.mp4\n",
      "Moviepy - Building video D:/Sun'iyX/Data/Sliced/Add\\1224(11)_cut_185_190.mp4.\n",
      "MoviePy - Writing audio in 1224(11)_cut_185_190TEMP_MPY_wvf_snd.mp3\n"
     ]
    },
    {
     "name": "stderr",
     "output_type": "stream",
     "text": [
      "                                                                  \r"
     ]
    },
    {
     "name": "stdout",
     "output_type": "stream",
     "text": [
      "MoviePy - Done.\n",
      "Moviepy - Writing video D:/Sun'iyX/Data/Sliced/Add\\1224(11)_cut_185_190.mp4\n",
      "\n"
     ]
    },
    {
     "name": "stderr",
     "output_type": "stream",
     "text": [
      "                                                               \r"
     ]
    },
    {
     "name": "stdout",
     "output_type": "stream",
     "text": [
      "Moviepy - Done !\n",
      "Moviepy - video ready D:/Sun'iyX/Data/Sliced/Add\\1224(11)_cut_185_190.mp4\n",
      "Moviepy - Building video D:/Sun'iyX/Data/Sliced/Add\\1224(11)_cut_190_195.mp4.\n",
      "MoviePy - Writing audio in 1224(11)_cut_190_195TEMP_MPY_wvf_snd.mp3\n"
     ]
    },
    {
     "name": "stderr",
     "output_type": "stream",
     "text": [
      "                                                                  \r"
     ]
    },
    {
     "name": "stdout",
     "output_type": "stream",
     "text": [
      "MoviePy - Done.\n",
      "Moviepy - Writing video D:/Sun'iyX/Data/Sliced/Add\\1224(11)_cut_190_195.mp4\n",
      "\n"
     ]
    },
    {
     "name": "stderr",
     "output_type": "stream",
     "text": [
      "                                                               \r"
     ]
    },
    {
     "name": "stdout",
     "output_type": "stream",
     "text": [
      "Moviepy - Done !\n",
      "Moviepy - video ready D:/Sun'iyX/Data/Sliced/Add\\1224(11)_cut_190_195.mp4\n",
      "Moviepy - Building video D:/Sun'iyX/Data/Sliced/Add\\1224(11)_cut_195_200.mp4.\n",
      "MoviePy - Writing audio in 1224(11)_cut_195_200TEMP_MPY_wvf_snd.mp3\n"
     ]
    },
    {
     "name": "stderr",
     "output_type": "stream",
     "text": [
      "                                                                  \r"
     ]
    },
    {
     "name": "stdout",
     "output_type": "stream",
     "text": [
      "MoviePy - Done.\n",
      "Moviepy - Writing video D:/Sun'iyX/Data/Sliced/Add\\1224(11)_cut_195_200.mp4\n",
      "\n"
     ]
    },
    {
     "name": "stderr",
     "output_type": "stream",
     "text": [
      "                                                              \r"
     ]
    },
    {
     "name": "stdout",
     "output_type": "stream",
     "text": [
      "Moviepy - Done !\n",
      "Moviepy - video ready D:/Sun'iyX/Data/Sliced/Add\\1224(11)_cut_195_200.mp4\n",
      "Moviepy - Building video D:/Sun'iyX/Data/Sliced/Add\\1224(11)_cut_200_205.mp4.\n",
      "MoviePy - Writing audio in 1224(11)_cut_200_205TEMP_MPY_wvf_snd.mp3\n"
     ]
    },
    {
     "name": "stderr",
     "output_type": "stream",
     "text": [
      "                                                                  \r"
     ]
    },
    {
     "name": "stdout",
     "output_type": "stream",
     "text": [
      "MoviePy - Done.\n",
      "Moviepy - Writing video D:/Sun'iyX/Data/Sliced/Add\\1224(11)_cut_200_205.mp4\n",
      "\n"
     ]
    },
    {
     "name": "stderr",
     "output_type": "stream",
     "text": [
      "                                                               \r"
     ]
    },
    {
     "name": "stdout",
     "output_type": "stream",
     "text": [
      "Moviepy - Done !\n",
      "Moviepy - video ready D:/Sun'iyX/Data/Sliced/Add\\1224(11)_cut_200_205.mp4\n",
      "Moviepy - Building video D:/Sun'iyX/Data/Sliced/Add\\1224(11)_cut_205_210.mp4.\n",
      "MoviePy - Writing audio in 1224(11)_cut_205_210TEMP_MPY_wvf_snd.mp3\n"
     ]
    },
    {
     "name": "stderr",
     "output_type": "stream",
     "text": [
      "                                                                  \r"
     ]
    },
    {
     "name": "stdout",
     "output_type": "stream",
     "text": [
      "MoviePy - Done.\n",
      "Moviepy - Writing video D:/Sun'iyX/Data/Sliced/Add\\1224(11)_cut_205_210.mp4\n",
      "\n"
     ]
    },
    {
     "name": "stderr",
     "output_type": "stream",
     "text": [
      "                                                              \r"
     ]
    },
    {
     "name": "stdout",
     "output_type": "stream",
     "text": [
      "Moviepy - Done !\n",
      "Moviepy - video ready D:/Sun'iyX/Data/Sliced/Add\\1224(11)_cut_205_210.mp4\n",
      "Moviepy - Building video D:/Sun'iyX/Data/Sliced/Add\\1224(11)_cut_210_215.mp4.\n",
      "MoviePy - Writing audio in 1224(11)_cut_210_215TEMP_MPY_wvf_snd.mp3\n"
     ]
    },
    {
     "name": "stderr",
     "output_type": "stream",
     "text": [
      "                                                                  \r"
     ]
    },
    {
     "name": "stdout",
     "output_type": "stream",
     "text": [
      "MoviePy - Done.\n",
      "Moviepy - Writing video D:/Sun'iyX/Data/Sliced/Add\\1224(11)_cut_210_215.mp4\n",
      "\n"
     ]
    },
    {
     "name": "stderr",
     "output_type": "stream",
     "text": [
      "                                                              \r"
     ]
    },
    {
     "name": "stdout",
     "output_type": "stream",
     "text": [
      "Moviepy - Done !\n",
      "Moviepy - video ready D:/Sun'iyX/Data/Sliced/Add\\1224(11)_cut_210_215.mp4\n",
      "Moviepy - Building video D:/Sun'iyX/Data/Sliced/Add\\1224(11)_cut_215_220.mp4.\n",
      "MoviePy - Writing audio in 1224(11)_cut_215_220TEMP_MPY_wvf_snd.mp3\n"
     ]
    },
    {
     "name": "stderr",
     "output_type": "stream",
     "text": [
      "                                                                  \r"
     ]
    },
    {
     "name": "stdout",
     "output_type": "stream",
     "text": [
      "MoviePy - Done.\n",
      "Moviepy - Writing video D:/Sun'iyX/Data/Sliced/Add\\1224(11)_cut_215_220.mp4\n",
      "\n"
     ]
    },
    {
     "name": "stderr",
     "output_type": "stream",
     "text": [
      "                                                               \r"
     ]
    },
    {
     "name": "stdout",
     "output_type": "stream",
     "text": [
      "Moviepy - Done !\n",
      "Moviepy - video ready D:/Sun'iyX/Data/Sliced/Add\\1224(11)_cut_215_220.mp4\n",
      "Moviepy - Building video D:/Sun'iyX/Data/Sliced/Add\\1224(11)_cut_220_225.mp4.\n",
      "MoviePy - Writing audio in 1224(11)_cut_220_225TEMP_MPY_wvf_snd.mp3\n"
     ]
    },
    {
     "name": "stderr",
     "output_type": "stream",
     "text": [
      "                                                                  \r"
     ]
    },
    {
     "name": "stdout",
     "output_type": "stream",
     "text": [
      "MoviePy - Done.\n",
      "Moviepy - Writing video D:/Sun'iyX/Data/Sliced/Add\\1224(11)_cut_220_225.mp4\n",
      "\n"
     ]
    },
    {
     "name": "stderr",
     "output_type": "stream",
     "text": [
      "                                                              \r"
     ]
    },
    {
     "name": "stdout",
     "output_type": "stream",
     "text": [
      "Moviepy - Done !\n",
      "Moviepy - video ready D:/Sun'iyX/Data/Sliced/Add\\1224(11)_cut_220_225.mp4\n",
      "Moviepy - Building video D:/Sun'iyX/Data/Sliced/Add\\1224(11)_cut_225_230.mp4.\n",
      "MoviePy - Writing audio in 1224(11)_cut_225_230TEMP_MPY_wvf_snd.mp3\n"
     ]
    },
    {
     "name": "stderr",
     "output_type": "stream",
     "text": [
      "                                                                  \r"
     ]
    },
    {
     "name": "stdout",
     "output_type": "stream",
     "text": [
      "MoviePy - Done.\n",
      "Moviepy - Writing video D:/Sun'iyX/Data/Sliced/Add\\1224(11)_cut_225_230.mp4\n",
      "\n"
     ]
    },
    {
     "name": "stderr",
     "output_type": "stream",
     "text": [
      "                                                               \r"
     ]
    },
    {
     "name": "stdout",
     "output_type": "stream",
     "text": [
      "Moviepy - Done !\n",
      "Moviepy - video ready D:/Sun'iyX/Data/Sliced/Add\\1224(11)_cut_225_230.mp4\n",
      "Moviepy - Building video D:/Sun'iyX/Data/Sliced/Add\\1224(11)_cut_230_235.mp4.\n",
      "MoviePy - Writing audio in 1224(11)_cut_230_235TEMP_MPY_wvf_snd.mp3\n"
     ]
    },
    {
     "name": "stderr",
     "output_type": "stream",
     "text": [
      "                                                                  \r"
     ]
    },
    {
     "name": "stdout",
     "output_type": "stream",
     "text": [
      "MoviePy - Done.\n",
      "Moviepy - Writing video D:/Sun'iyX/Data/Sliced/Add\\1224(11)_cut_230_235.mp4\n",
      "\n"
     ]
    },
    {
     "name": "stderr",
     "output_type": "stream",
     "text": [
      "                                                               \r"
     ]
    },
    {
     "name": "stdout",
     "output_type": "stream",
     "text": [
      "Moviepy - Done !\n",
      "Moviepy - video ready D:/Sun'iyX/Data/Sliced/Add\\1224(11)_cut_230_235.mp4\n",
      "Moviepy - Building video D:/Sun'iyX/Data/Sliced/Add\\1224(11)_cut_235_237.01.mp4.\n",
      "MoviePy - Writing audio in 1224(11)_cut_235_237.01TEMP_MPY_wvf_snd.mp3\n"
     ]
    },
    {
     "name": "stderr",
     "output_type": "stream",
     "text": [
      "                                                       \r"
     ]
    },
    {
     "name": "stdout",
     "output_type": "stream",
     "text": [
      "MoviePy - Done.\n",
      "Moviepy - Writing video D:/Sun'iyX/Data/Sliced/Add\\1224(11)_cut_235_237.01.mp4\n",
      "\n"
     ]
    },
    {
     "name": "stderr",
     "output_type": "stream",
     "text": [
      "                                                            \r"
     ]
    },
    {
     "name": "stdout",
     "output_type": "stream",
     "text": [
      "Moviepy - Done !\n",
      "Moviepy - video ready D:/Sun'iyX/Data/Sliced/Add\\1224(11)_cut_235_237.01.mp4\n",
      "Moviepy - Building video D:/Sun'iyX/Data/Sliced/Add\\1224_cut_0_5.mp4.\n",
      "MoviePy - Writing audio in 1224_cut_0_5TEMP_MPY_wvf_snd.mp3\n"
     ]
    },
    {
     "name": "stderr",
     "output_type": "stream",
     "text": [
      "                                                                  \r"
     ]
    },
    {
     "name": "stdout",
     "output_type": "stream",
     "text": [
      "MoviePy - Done.\n",
      "Moviepy - Writing video D:/Sun'iyX/Data/Sliced/Add\\1224_cut_0_5.mp4\n",
      "\n"
     ]
    },
    {
     "name": "stderr",
     "output_type": "stream",
     "text": [
      "                                                               \r"
     ]
    },
    {
     "name": "stdout",
     "output_type": "stream",
     "text": [
      "Moviepy - Done !\n",
      "Moviepy - video ready D:/Sun'iyX/Data/Sliced/Add\\1224_cut_0_5.mp4\n",
      "Moviepy - Building video D:/Sun'iyX/Data/Sliced/Add\\1224_cut_5_10.mp4.\n",
      "MoviePy - Writing audio in 1224_cut_5_10TEMP_MPY_wvf_snd.mp3\n"
     ]
    },
    {
     "name": "stderr",
     "output_type": "stream",
     "text": [
      "                                                                  \r"
     ]
    },
    {
     "name": "stdout",
     "output_type": "stream",
     "text": [
      "MoviePy - Done.\n",
      "Moviepy - Writing video D:/Sun'iyX/Data/Sliced/Add\\1224_cut_5_10.mp4\n",
      "\n"
     ]
    },
    {
     "name": "stderr",
     "output_type": "stream",
     "text": [
      "                                                               \r"
     ]
    },
    {
     "name": "stdout",
     "output_type": "stream",
     "text": [
      "Moviepy - Done !\n",
      "Moviepy - video ready D:/Sun'iyX/Data/Sliced/Add\\1224_cut_5_10.mp4\n",
      "Moviepy - Building video D:/Sun'iyX/Data/Sliced/Add\\1224_cut_10_15.mp4.\n",
      "MoviePy - Writing audio in 1224_cut_10_15TEMP_MPY_wvf_snd.mp3\n"
     ]
    },
    {
     "name": "stderr",
     "output_type": "stream",
     "text": [
      "                                                                  \r"
     ]
    },
    {
     "name": "stdout",
     "output_type": "stream",
     "text": [
      "MoviePy - Done.\n",
      "Moviepy - Writing video D:/Sun'iyX/Data/Sliced/Add\\1224_cut_10_15.mp4\n",
      "\n"
     ]
    },
    {
     "name": "stderr",
     "output_type": "stream",
     "text": [
      "                                                               \r"
     ]
    },
    {
     "name": "stdout",
     "output_type": "stream",
     "text": [
      "Moviepy - Done !\n",
      "Moviepy - video ready D:/Sun'iyX/Data/Sliced/Add\\1224_cut_10_15.mp4\n",
      "Moviepy - Building video D:/Sun'iyX/Data/Sliced/Add\\1224_cut_15_20.mp4.\n",
      "MoviePy - Writing audio in 1224_cut_15_20TEMP_MPY_wvf_snd.mp3\n"
     ]
    },
    {
     "name": "stderr",
     "output_type": "stream",
     "text": [
      "                                                                  \r"
     ]
    },
    {
     "name": "stdout",
     "output_type": "stream",
     "text": [
      "MoviePy - Done.\n",
      "Moviepy - Writing video D:/Sun'iyX/Data/Sliced/Add\\1224_cut_15_20.mp4\n",
      "\n"
     ]
    },
    {
     "name": "stderr",
     "output_type": "stream",
     "text": [
      "                                                               \r"
     ]
    },
    {
     "name": "stdout",
     "output_type": "stream",
     "text": [
      "Moviepy - Done !\n",
      "Moviepy - video ready D:/Sun'iyX/Data/Sliced/Add\\1224_cut_15_20.mp4\n",
      "Moviepy - Building video D:/Sun'iyX/Data/Sliced/Add\\1224_cut_20_25.mp4.\n",
      "MoviePy - Writing audio in 1224_cut_20_25TEMP_MPY_wvf_snd.mp3\n"
     ]
    },
    {
     "name": "stderr",
     "output_type": "stream",
     "text": [
      "                                                                  \r"
     ]
    },
    {
     "name": "stdout",
     "output_type": "stream",
     "text": [
      "MoviePy - Done.\n",
      "Moviepy - Writing video D:/Sun'iyX/Data/Sliced/Add\\1224_cut_20_25.mp4\n",
      "\n"
     ]
    },
    {
     "name": "stderr",
     "output_type": "stream",
     "text": [
      "                                                               \r"
     ]
    },
    {
     "name": "stdout",
     "output_type": "stream",
     "text": [
      "Moviepy - Done !\n",
      "Moviepy - video ready D:/Sun'iyX/Data/Sliced/Add\\1224_cut_20_25.mp4\n",
      "Moviepy - Building video D:/Sun'iyX/Data/Sliced/Add\\1224_cut_25_30.mp4.\n",
      "MoviePy - Writing audio in 1224_cut_25_30TEMP_MPY_wvf_snd.mp3\n"
     ]
    },
    {
     "name": "stderr",
     "output_type": "stream",
     "text": [
      "                                                                  \r"
     ]
    },
    {
     "name": "stdout",
     "output_type": "stream",
     "text": [
      "MoviePy - Done.\n",
      "Moviepy - Writing video D:/Sun'iyX/Data/Sliced/Add\\1224_cut_25_30.mp4\n",
      "\n"
     ]
    },
    {
     "name": "stderr",
     "output_type": "stream",
     "text": [
      "                                                              \r"
     ]
    },
    {
     "name": "stdout",
     "output_type": "stream",
     "text": [
      "Moviepy - Done !\n",
      "Moviepy - video ready D:/Sun'iyX/Data/Sliced/Add\\1224_cut_25_30.mp4\n",
      "Moviepy - Building video D:/Sun'iyX/Data/Sliced/Add\\1224_cut_30_35.mp4.\n",
      "MoviePy - Writing audio in 1224_cut_30_35TEMP_MPY_wvf_snd.mp3\n"
     ]
    },
    {
     "name": "stderr",
     "output_type": "stream",
     "text": [
      "                                                                  \r"
     ]
    },
    {
     "name": "stdout",
     "output_type": "stream",
     "text": [
      "MoviePy - Done.\n",
      "Moviepy - Writing video D:/Sun'iyX/Data/Sliced/Add\\1224_cut_30_35.mp4\n",
      "\n"
     ]
    },
    {
     "name": "stderr",
     "output_type": "stream",
     "text": [
      "                                                               \r"
     ]
    },
    {
     "name": "stdout",
     "output_type": "stream",
     "text": [
      "Moviepy - Done !\n",
      "Moviepy - video ready D:/Sun'iyX/Data/Sliced/Add\\1224_cut_30_35.mp4\n",
      "Moviepy - Building video D:/Sun'iyX/Data/Sliced/Add\\1224_cut_35_40.mp4.\n",
      "MoviePy - Writing audio in 1224_cut_35_40TEMP_MPY_wvf_snd.mp3\n"
     ]
    },
    {
     "name": "stderr",
     "output_type": "stream",
     "text": [
      "                                                                  \r"
     ]
    },
    {
     "name": "stdout",
     "output_type": "stream",
     "text": [
      "MoviePy - Done.\n",
      "Moviepy - Writing video D:/Sun'iyX/Data/Sliced/Add\\1224_cut_35_40.mp4\n",
      "\n"
     ]
    },
    {
     "name": "stderr",
     "output_type": "stream",
     "text": [
      "                                                               \r"
     ]
    },
    {
     "name": "stdout",
     "output_type": "stream",
     "text": [
      "Moviepy - Done !\n",
      "Moviepy - video ready D:/Sun'iyX/Data/Sliced/Add\\1224_cut_35_40.mp4\n",
      "Moviepy - Building video D:/Sun'iyX/Data/Sliced/Add\\1224_cut_40_45.mp4.\n",
      "MoviePy - Writing audio in 1224_cut_40_45TEMP_MPY_wvf_snd.mp3\n"
     ]
    },
    {
     "name": "stderr",
     "output_type": "stream",
     "text": [
      "                                                                  \r"
     ]
    },
    {
     "name": "stdout",
     "output_type": "stream",
     "text": [
      "MoviePy - Done.\n",
      "Moviepy - Writing video D:/Sun'iyX/Data/Sliced/Add\\1224_cut_40_45.mp4\n",
      "\n"
     ]
    },
    {
     "name": "stderr",
     "output_type": "stream",
     "text": [
      "                                                               \r"
     ]
    },
    {
     "name": "stdout",
     "output_type": "stream",
     "text": [
      "Moviepy - Done !\n",
      "Moviepy - video ready D:/Sun'iyX/Data/Sliced/Add\\1224_cut_40_45.mp4\n",
      "Moviepy - Building video D:/Sun'iyX/Data/Sliced/Add\\1224_cut_45_50.mp4.\n",
      "MoviePy - Writing audio in 1224_cut_45_50TEMP_MPY_wvf_snd.mp3\n"
     ]
    },
    {
     "name": "stderr",
     "output_type": "stream",
     "text": [
      "                                                                  \r"
     ]
    },
    {
     "name": "stdout",
     "output_type": "stream",
     "text": [
      "MoviePy - Done.\n",
      "Moviepy - Writing video D:/Sun'iyX/Data/Sliced/Add\\1224_cut_45_50.mp4\n",
      "\n"
     ]
    },
    {
     "name": "stderr",
     "output_type": "stream",
     "text": [
      "                                                               \r"
     ]
    },
    {
     "name": "stdout",
     "output_type": "stream",
     "text": [
      "Moviepy - Done !\n",
      "Moviepy - video ready D:/Sun'iyX/Data/Sliced/Add\\1224_cut_45_50.mp4\n",
      "Moviepy - Building video D:/Sun'iyX/Data/Sliced/Add\\1224_cut_50_55.mp4.\n",
      "MoviePy - Writing audio in 1224_cut_50_55TEMP_MPY_wvf_snd.mp3\n"
     ]
    },
    {
     "name": "stderr",
     "output_type": "stream",
     "text": [
      "                                                                  \r"
     ]
    },
    {
     "name": "stdout",
     "output_type": "stream",
     "text": [
      "MoviePy - Done.\n",
      "Moviepy - Writing video D:/Sun'iyX/Data/Sliced/Add\\1224_cut_50_55.mp4\n",
      "\n"
     ]
    },
    {
     "name": "stderr",
     "output_type": "stream",
     "text": [
      "                                                               \r"
     ]
    },
    {
     "name": "stdout",
     "output_type": "stream",
     "text": [
      "Moviepy - Done !\n",
      "Moviepy - video ready D:/Sun'iyX/Data/Sliced/Add\\1224_cut_50_55.mp4\n",
      "Moviepy - Building video D:/Sun'iyX/Data/Sliced/Add\\1224_cut_55_60.mp4.\n",
      "MoviePy - Writing audio in 1224_cut_55_60TEMP_MPY_wvf_snd.mp3\n"
     ]
    },
    {
     "name": "stderr",
     "output_type": "stream",
     "text": [
      "                                                                  \r"
     ]
    },
    {
     "name": "stdout",
     "output_type": "stream",
     "text": [
      "MoviePy - Done.\n",
      "Moviepy - Writing video D:/Sun'iyX/Data/Sliced/Add\\1224_cut_55_60.mp4\n",
      "\n"
     ]
    },
    {
     "name": "stderr",
     "output_type": "stream",
     "text": [
      "                                                               \r"
     ]
    },
    {
     "name": "stdout",
     "output_type": "stream",
     "text": [
      "Moviepy - Done !\n",
      "Moviepy - video ready D:/Sun'iyX/Data/Sliced/Add\\1224_cut_55_60.mp4\n",
      "Moviepy - Building video D:/Sun'iyX/Data/Sliced/Add\\1224_cut_60_65.mp4.\n",
      "MoviePy - Writing audio in 1224_cut_60_65TEMP_MPY_wvf_snd.mp3\n"
     ]
    },
    {
     "name": "stderr",
     "output_type": "stream",
     "text": [
      "                                                                  \r"
     ]
    },
    {
     "name": "stdout",
     "output_type": "stream",
     "text": [
      "MoviePy - Done.\n",
      "Moviepy - Writing video D:/Sun'iyX/Data/Sliced/Add\\1224_cut_60_65.mp4\n",
      "\n"
     ]
    },
    {
     "name": "stderr",
     "output_type": "stream",
     "text": [
      "                                                              \r"
     ]
    },
    {
     "name": "stdout",
     "output_type": "stream",
     "text": [
      "Moviepy - Done !\n",
      "Moviepy - video ready D:/Sun'iyX/Data/Sliced/Add\\1224_cut_60_65.mp4\n",
      "Moviepy - Building video D:/Sun'iyX/Data/Sliced/Add\\1224_cut_65_70.mp4.\n",
      "MoviePy - Writing audio in 1224_cut_65_70TEMP_MPY_wvf_snd.mp3\n"
     ]
    },
    {
     "name": "stderr",
     "output_type": "stream",
     "text": [
      "                                                                  \r"
     ]
    },
    {
     "name": "stdout",
     "output_type": "stream",
     "text": [
      "MoviePy - Done.\n",
      "Moviepy - Writing video D:/Sun'iyX/Data/Sliced/Add\\1224_cut_65_70.mp4\n",
      "\n"
     ]
    },
    {
     "name": "stderr",
     "output_type": "stream",
     "text": [
      "                                                               \r"
     ]
    },
    {
     "name": "stdout",
     "output_type": "stream",
     "text": [
      "Moviepy - Done !\n",
      "Moviepy - video ready D:/Sun'iyX/Data/Sliced/Add\\1224_cut_65_70.mp4\n",
      "Moviepy - Building video D:/Sun'iyX/Data/Sliced/Add\\1224_cut_70_75.mp4.\n",
      "MoviePy - Writing audio in 1224_cut_70_75TEMP_MPY_wvf_snd.mp3\n"
     ]
    },
    {
     "name": "stderr",
     "output_type": "stream",
     "text": [
      "                                                                  \r"
     ]
    },
    {
     "name": "stdout",
     "output_type": "stream",
     "text": [
      "MoviePy - Done.\n",
      "Moviepy - Writing video D:/Sun'iyX/Data/Sliced/Add\\1224_cut_70_75.mp4\n",
      "\n"
     ]
    },
    {
     "name": "stderr",
     "output_type": "stream",
     "text": [
      "                                                               \r"
     ]
    },
    {
     "name": "stdout",
     "output_type": "stream",
     "text": [
      "Moviepy - Done !\n",
      "Moviepy - video ready D:/Sun'iyX/Data/Sliced/Add\\1224_cut_70_75.mp4\n",
      "Moviepy - Building video D:/Sun'iyX/Data/Sliced/Add\\1224_cut_75_80.mp4.\n",
      "MoviePy - Writing audio in 1224_cut_75_80TEMP_MPY_wvf_snd.mp3\n"
     ]
    },
    {
     "name": "stderr",
     "output_type": "stream",
     "text": [
      "                                                                  \r"
     ]
    },
    {
     "name": "stdout",
     "output_type": "stream",
     "text": [
      "MoviePy - Done.\n",
      "Moviepy - Writing video D:/Sun'iyX/Data/Sliced/Add\\1224_cut_75_80.mp4\n",
      "\n"
     ]
    },
    {
     "name": "stderr",
     "output_type": "stream",
     "text": [
      "                                                               \r"
     ]
    },
    {
     "name": "stdout",
     "output_type": "stream",
     "text": [
      "Moviepy - Done !\n",
      "Moviepy - video ready D:/Sun'iyX/Data/Sliced/Add\\1224_cut_75_80.mp4\n",
      "Moviepy - Building video D:/Sun'iyX/Data/Sliced/Add\\1224_cut_80_85.mp4.\n",
      "MoviePy - Writing audio in 1224_cut_80_85TEMP_MPY_wvf_snd.mp3\n"
     ]
    },
    {
     "name": "stderr",
     "output_type": "stream",
     "text": [
      "                                                                  \r"
     ]
    },
    {
     "name": "stdout",
     "output_type": "stream",
     "text": [
      "MoviePy - Done.\n",
      "Moviepy - Writing video D:/Sun'iyX/Data/Sliced/Add\\1224_cut_80_85.mp4\n",
      "\n"
     ]
    },
    {
     "name": "stderr",
     "output_type": "stream",
     "text": [
      "                                                              \r"
     ]
    },
    {
     "name": "stdout",
     "output_type": "stream",
     "text": [
      "Moviepy - Done !\n",
      "Moviepy - video ready D:/Sun'iyX/Data/Sliced/Add\\1224_cut_80_85.mp4\n",
      "Moviepy - Building video D:/Sun'iyX/Data/Sliced/Add\\1224_cut_85_90.mp4.\n",
      "MoviePy - Writing audio in 1224_cut_85_90TEMP_MPY_wvf_snd.mp3\n"
     ]
    },
    {
     "name": "stderr",
     "output_type": "stream",
     "text": [
      "                                                                  \r"
     ]
    },
    {
     "name": "stdout",
     "output_type": "stream",
     "text": [
      "MoviePy - Done.\n",
      "Moviepy - Writing video D:/Sun'iyX/Data/Sliced/Add\\1224_cut_85_90.mp4\n",
      "\n"
     ]
    },
    {
     "name": "stderr",
     "output_type": "stream",
     "text": [
      "                                                               \r"
     ]
    },
    {
     "name": "stdout",
     "output_type": "stream",
     "text": [
      "Moviepy - Done !\n",
      "Moviepy - video ready D:/Sun'iyX/Data/Sliced/Add\\1224_cut_85_90.mp4\n",
      "Moviepy - Building video D:/Sun'iyX/Data/Sliced/Add\\1224_cut_90_95.mp4.\n",
      "MoviePy - Writing audio in 1224_cut_90_95TEMP_MPY_wvf_snd.mp3\n"
     ]
    },
    {
     "name": "stderr",
     "output_type": "stream",
     "text": [
      "                                                                  \r"
     ]
    },
    {
     "name": "stdout",
     "output_type": "stream",
     "text": [
      "MoviePy - Done.\n",
      "Moviepy - Writing video D:/Sun'iyX/Data/Sliced/Add\\1224_cut_90_95.mp4\n",
      "\n"
     ]
    },
    {
     "name": "stderr",
     "output_type": "stream",
     "text": [
      "                                                               \r"
     ]
    },
    {
     "name": "stdout",
     "output_type": "stream",
     "text": [
      "Moviepy - Done !\n",
      "Moviepy - video ready D:/Sun'iyX/Data/Sliced/Add\\1224_cut_90_95.mp4\n",
      "Moviepy - Building video D:/Sun'iyX/Data/Sliced/Add\\1224_cut_95_100.mp4.\n",
      "MoviePy - Writing audio in 1224_cut_95_100TEMP_MPY_wvf_snd.mp3\n"
     ]
    },
    {
     "name": "stderr",
     "output_type": "stream",
     "text": [
      "                                                                  \r"
     ]
    },
    {
     "name": "stdout",
     "output_type": "stream",
     "text": [
      "MoviePy - Done.\n",
      "Moviepy - Writing video D:/Sun'iyX/Data/Sliced/Add\\1224_cut_95_100.mp4\n",
      "\n"
     ]
    },
    {
     "name": "stderr",
     "output_type": "stream",
     "text": [
      "                                                               \r"
     ]
    },
    {
     "name": "stdout",
     "output_type": "stream",
     "text": [
      "Moviepy - Done !\n",
      "Moviepy - video ready D:/Sun'iyX/Data/Sliced/Add\\1224_cut_95_100.mp4\n",
      "Moviepy - Building video D:/Sun'iyX/Data/Sliced/Add\\1224_cut_100_105.mp4.\n",
      "MoviePy - Writing audio in 1224_cut_100_105TEMP_MPY_wvf_snd.mp3\n"
     ]
    },
    {
     "name": "stderr",
     "output_type": "stream",
     "text": [
      "                                                                  \r"
     ]
    },
    {
     "name": "stdout",
     "output_type": "stream",
     "text": [
      "MoviePy - Done.\n",
      "Moviepy - Writing video D:/Sun'iyX/Data/Sliced/Add\\1224_cut_100_105.mp4\n",
      "\n"
     ]
    },
    {
     "name": "stderr",
     "output_type": "stream",
     "text": [
      "                                                               \r"
     ]
    },
    {
     "name": "stdout",
     "output_type": "stream",
     "text": [
      "Moviepy - Done !\n",
      "Moviepy - video ready D:/Sun'iyX/Data/Sliced/Add\\1224_cut_100_105.mp4\n",
      "Moviepy - Building video D:/Sun'iyX/Data/Sliced/Add\\1224_cut_105_110.mp4.\n",
      "MoviePy - Writing audio in 1224_cut_105_110TEMP_MPY_wvf_snd.mp3\n"
     ]
    },
    {
     "name": "stderr",
     "output_type": "stream",
     "text": [
      "                                                                  \r"
     ]
    },
    {
     "name": "stdout",
     "output_type": "stream",
     "text": [
      "MoviePy - Done.\n",
      "Moviepy - Writing video D:/Sun'iyX/Data/Sliced/Add\\1224_cut_105_110.mp4\n",
      "\n"
     ]
    },
    {
     "name": "stderr",
     "output_type": "stream",
     "text": [
      "                                                               \r"
     ]
    },
    {
     "name": "stdout",
     "output_type": "stream",
     "text": [
      "Moviepy - Done !\n",
      "Moviepy - video ready D:/Sun'iyX/Data/Sliced/Add\\1224_cut_105_110.mp4\n",
      "Moviepy - Building video D:/Sun'iyX/Data/Sliced/Add\\1224_cut_110_115.mp4.\n",
      "MoviePy - Writing audio in 1224_cut_110_115TEMP_MPY_wvf_snd.mp3\n"
     ]
    },
    {
     "name": "stderr",
     "output_type": "stream",
     "text": [
      "                                                                  \r"
     ]
    },
    {
     "name": "stdout",
     "output_type": "stream",
     "text": [
      "MoviePy - Done.\n",
      "Moviepy - Writing video D:/Sun'iyX/Data/Sliced/Add\\1224_cut_110_115.mp4\n",
      "\n"
     ]
    },
    {
     "name": "stderr",
     "output_type": "stream",
     "text": [
      "                                                               \r"
     ]
    },
    {
     "name": "stdout",
     "output_type": "stream",
     "text": [
      "Moviepy - Done !\n",
      "Moviepy - video ready D:/Sun'iyX/Data/Sliced/Add\\1224_cut_110_115.mp4\n",
      "Moviepy - Building video D:/Sun'iyX/Data/Sliced/Add\\1224_cut_115_120.mp4.\n",
      "MoviePy - Writing audio in 1224_cut_115_120TEMP_MPY_wvf_snd.mp3\n"
     ]
    },
    {
     "name": "stderr",
     "output_type": "stream",
     "text": [
      "                                                                  \r"
     ]
    },
    {
     "name": "stdout",
     "output_type": "stream",
     "text": [
      "MoviePy - Done.\n",
      "Moviepy - Writing video D:/Sun'iyX/Data/Sliced/Add\\1224_cut_115_120.mp4\n",
      "\n"
     ]
    },
    {
     "name": "stderr",
     "output_type": "stream",
     "text": [
      "                                                               \r"
     ]
    },
    {
     "name": "stdout",
     "output_type": "stream",
     "text": [
      "Moviepy - Done !\n",
      "Moviepy - video ready D:/Sun'iyX/Data/Sliced/Add\\1224_cut_115_120.mp4\n",
      "Moviepy - Building video D:/Sun'iyX/Data/Sliced/Add\\1224_cut_120_125.mp4.\n",
      "MoviePy - Writing audio in 1224_cut_120_125TEMP_MPY_wvf_snd.mp3\n"
     ]
    },
    {
     "name": "stderr",
     "output_type": "stream",
     "text": [
      "                                                                  \r"
     ]
    },
    {
     "name": "stdout",
     "output_type": "stream",
     "text": [
      "MoviePy - Done.\n",
      "Moviepy - Writing video D:/Sun'iyX/Data/Sliced/Add\\1224_cut_120_125.mp4\n",
      "\n"
     ]
    },
    {
     "name": "stderr",
     "output_type": "stream",
     "text": [
      "                                                               \r"
     ]
    },
    {
     "name": "stdout",
     "output_type": "stream",
     "text": [
      "Moviepy - Done !\n",
      "Moviepy - video ready D:/Sun'iyX/Data/Sliced/Add\\1224_cut_120_125.mp4\n",
      "Moviepy - Building video D:/Sun'iyX/Data/Sliced/Add\\1224_cut_125_130.mp4.\n",
      "MoviePy - Writing audio in 1224_cut_125_130TEMP_MPY_wvf_snd.mp3\n"
     ]
    },
    {
     "name": "stderr",
     "output_type": "stream",
     "text": [
      "                                                                  \r"
     ]
    },
    {
     "name": "stdout",
     "output_type": "stream",
     "text": [
      "MoviePy - Done.\n",
      "Moviepy - Writing video D:/Sun'iyX/Data/Sliced/Add\\1224_cut_125_130.mp4\n",
      "\n"
     ]
    },
    {
     "name": "stderr",
     "output_type": "stream",
     "text": [
      "                                                               \r"
     ]
    },
    {
     "name": "stdout",
     "output_type": "stream",
     "text": [
      "Moviepy - Done !\n",
      "Moviepy - video ready D:/Sun'iyX/Data/Sliced/Add\\1224_cut_125_130.mp4\n",
      "Moviepy - Building video D:/Sun'iyX/Data/Sliced/Add\\1224_cut_130_135.mp4.\n",
      "MoviePy - Writing audio in 1224_cut_130_135TEMP_MPY_wvf_snd.mp3\n"
     ]
    },
    {
     "name": "stderr",
     "output_type": "stream",
     "text": [
      "                                                                  \r"
     ]
    },
    {
     "name": "stdout",
     "output_type": "stream",
     "text": [
      "MoviePy - Done.\n",
      "Moviepy - Writing video D:/Sun'iyX/Data/Sliced/Add\\1224_cut_130_135.mp4\n",
      "\n"
     ]
    },
    {
     "name": "stderr",
     "output_type": "stream",
     "text": [
      "                                                               \r"
     ]
    },
    {
     "name": "stdout",
     "output_type": "stream",
     "text": [
      "Moviepy - Done !\n",
      "Moviepy - video ready D:/Sun'iyX/Data/Sliced/Add\\1224_cut_130_135.mp4\n",
      "Moviepy - Building video D:/Sun'iyX/Data/Sliced/Add\\1224_cut_135_140.mp4.\n",
      "MoviePy - Writing audio in 1224_cut_135_140TEMP_MPY_wvf_snd.mp3\n"
     ]
    },
    {
     "name": "stderr",
     "output_type": "stream",
     "text": [
      "                                                                  \r"
     ]
    },
    {
     "name": "stdout",
     "output_type": "stream",
     "text": [
      "MoviePy - Done.\n",
      "Moviepy - Writing video D:/Sun'iyX/Data/Sliced/Add\\1224_cut_135_140.mp4\n",
      "\n"
     ]
    },
    {
     "name": "stderr",
     "output_type": "stream",
     "text": [
      "                                                               \r"
     ]
    },
    {
     "name": "stdout",
     "output_type": "stream",
     "text": [
      "Moviepy - Done !\n",
      "Moviepy - video ready D:/Sun'iyX/Data/Sliced/Add\\1224_cut_135_140.mp4\n",
      "Moviepy - Building video D:/Sun'iyX/Data/Sliced/Add\\1224_cut_140_145.mp4.\n",
      "MoviePy - Writing audio in 1224_cut_140_145TEMP_MPY_wvf_snd.mp3\n"
     ]
    },
    {
     "name": "stderr",
     "output_type": "stream",
     "text": [
      "                                                                  \r"
     ]
    },
    {
     "name": "stdout",
     "output_type": "stream",
     "text": [
      "MoviePy - Done.\n",
      "Moviepy - Writing video D:/Sun'iyX/Data/Sliced/Add\\1224_cut_140_145.mp4\n",
      "\n"
     ]
    },
    {
     "name": "stderr",
     "output_type": "stream",
     "text": [
      "                                                               \r"
     ]
    },
    {
     "name": "stdout",
     "output_type": "stream",
     "text": [
      "Moviepy - Done !\n",
      "Moviepy - video ready D:/Sun'iyX/Data/Sliced/Add\\1224_cut_140_145.mp4\n",
      "Moviepy - Building video D:/Sun'iyX/Data/Sliced/Add\\1224_cut_145_150.mp4.\n",
      "MoviePy - Writing audio in 1224_cut_145_150TEMP_MPY_wvf_snd.mp3\n"
     ]
    },
    {
     "name": "stderr",
     "output_type": "stream",
     "text": [
      "                                                                  \r"
     ]
    },
    {
     "name": "stdout",
     "output_type": "stream",
     "text": [
      "MoviePy - Done.\n",
      "Moviepy - Writing video D:/Sun'iyX/Data/Sliced/Add\\1224_cut_145_150.mp4\n",
      "\n"
     ]
    },
    {
     "name": "stderr",
     "output_type": "stream",
     "text": [
      "                                                               \r"
     ]
    },
    {
     "name": "stdout",
     "output_type": "stream",
     "text": [
      "Moviepy - Done !\n",
      "Moviepy - video ready D:/Sun'iyX/Data/Sliced/Add\\1224_cut_145_150.mp4\n",
      "Moviepy - Building video D:/Sun'iyX/Data/Sliced/Add\\1224_cut_150_155.mp4.\n",
      "MoviePy - Writing audio in 1224_cut_150_155TEMP_MPY_wvf_snd.mp3\n"
     ]
    },
    {
     "name": "stderr",
     "output_type": "stream",
     "text": [
      "                                                                  \r"
     ]
    },
    {
     "name": "stdout",
     "output_type": "stream",
     "text": [
      "MoviePy - Done.\n",
      "Moviepy - Writing video D:/Sun'iyX/Data/Sliced/Add\\1224_cut_150_155.mp4\n",
      "\n"
     ]
    },
    {
     "name": "stderr",
     "output_type": "stream",
     "text": [
      "                                                               \r"
     ]
    },
    {
     "name": "stdout",
     "output_type": "stream",
     "text": [
      "Moviepy - Done !\n",
      "Moviepy - video ready D:/Sun'iyX/Data/Sliced/Add\\1224_cut_150_155.mp4\n",
      "Moviepy - Building video D:/Sun'iyX/Data/Sliced/Add\\1224_cut_155_160.mp4.\n",
      "MoviePy - Writing audio in 1224_cut_155_160TEMP_MPY_wvf_snd.mp3\n"
     ]
    },
    {
     "name": "stderr",
     "output_type": "stream",
     "text": [
      "                                                                  \r"
     ]
    },
    {
     "name": "stdout",
     "output_type": "stream",
     "text": [
      "MoviePy - Done.\n",
      "Moviepy - Writing video D:/Sun'iyX/Data/Sliced/Add\\1224_cut_155_160.mp4\n",
      "\n"
     ]
    },
    {
     "name": "stderr",
     "output_type": "stream",
     "text": [
      "                                                              \r"
     ]
    },
    {
     "name": "stdout",
     "output_type": "stream",
     "text": [
      "Moviepy - Done !\n",
      "Moviepy - video ready D:/Sun'iyX/Data/Sliced/Add\\1224_cut_155_160.mp4\n",
      "Moviepy - Building video D:/Sun'iyX/Data/Sliced/Add\\1224_cut_160_165.mp4.\n",
      "MoviePy - Writing audio in 1224_cut_160_165TEMP_MPY_wvf_snd.mp3\n"
     ]
    },
    {
     "name": "stderr",
     "output_type": "stream",
     "text": [
      "                                                                  \r"
     ]
    },
    {
     "name": "stdout",
     "output_type": "stream",
     "text": [
      "MoviePy - Done.\n",
      "Moviepy - Writing video D:/Sun'iyX/Data/Sliced/Add\\1224_cut_160_165.mp4\n",
      "\n"
     ]
    },
    {
     "name": "stderr",
     "output_type": "stream",
     "text": [
      "                                                               \r"
     ]
    },
    {
     "name": "stdout",
     "output_type": "stream",
     "text": [
      "Moviepy - Done !\n",
      "Moviepy - video ready D:/Sun'iyX/Data/Sliced/Add\\1224_cut_160_165.mp4\n",
      "Moviepy - Building video D:/Sun'iyX/Data/Sliced/Add\\1224_cut_165_170.mp4.\n",
      "MoviePy - Writing audio in 1224_cut_165_170TEMP_MPY_wvf_snd.mp3\n"
     ]
    },
    {
     "name": "stderr",
     "output_type": "stream",
     "text": [
      "                                                                  \r"
     ]
    },
    {
     "name": "stdout",
     "output_type": "stream",
     "text": [
      "MoviePy - Done.\n",
      "Moviepy - Writing video D:/Sun'iyX/Data/Sliced/Add\\1224_cut_165_170.mp4\n",
      "\n"
     ]
    },
    {
     "name": "stderr",
     "output_type": "stream",
     "text": [
      "                                                              \r"
     ]
    },
    {
     "name": "stdout",
     "output_type": "stream",
     "text": [
      "Moviepy - Done !\n",
      "Moviepy - video ready D:/Sun'iyX/Data/Sliced/Add\\1224_cut_165_170.mp4\n",
      "Moviepy - Building video D:/Sun'iyX/Data/Sliced/Add\\1224_cut_170_175.mp4.\n",
      "MoviePy - Writing audio in 1224_cut_170_175TEMP_MPY_wvf_snd.mp3\n"
     ]
    },
    {
     "name": "stderr",
     "output_type": "stream",
     "text": [
      "                                                                  \r"
     ]
    },
    {
     "name": "stdout",
     "output_type": "stream",
     "text": [
      "MoviePy - Done.\n",
      "Moviepy - Writing video D:/Sun'iyX/Data/Sliced/Add\\1224_cut_170_175.mp4\n",
      "\n"
     ]
    },
    {
     "name": "stderr",
     "output_type": "stream",
     "text": [
      "                                                               \r"
     ]
    },
    {
     "name": "stdout",
     "output_type": "stream",
     "text": [
      "Moviepy - Done !\n",
      "Moviepy - video ready D:/Sun'iyX/Data/Sliced/Add\\1224_cut_170_175.mp4\n",
      "Moviepy - Building video D:/Sun'iyX/Data/Sliced/Add\\1224_cut_175_180.mp4.\n",
      "MoviePy - Writing audio in 1224_cut_175_180TEMP_MPY_wvf_snd.mp3\n"
     ]
    },
    {
     "name": "stderr",
     "output_type": "stream",
     "text": [
      "                                                                  \r"
     ]
    },
    {
     "name": "stdout",
     "output_type": "stream",
     "text": [
      "MoviePy - Done.\n",
      "Moviepy - Writing video D:/Sun'iyX/Data/Sliced/Add\\1224_cut_175_180.mp4\n",
      "\n"
     ]
    },
    {
     "name": "stderr",
     "output_type": "stream",
     "text": [
      "                                                              \r"
     ]
    },
    {
     "name": "stdout",
     "output_type": "stream",
     "text": [
      "Moviepy - Done !\n",
      "Moviepy - video ready D:/Sun'iyX/Data/Sliced/Add\\1224_cut_175_180.mp4\n",
      "Moviepy - Building video D:/Sun'iyX/Data/Sliced/Add\\1224_cut_180_185.mp4.\n",
      "MoviePy - Writing audio in 1224_cut_180_185TEMP_MPY_wvf_snd.mp3\n"
     ]
    },
    {
     "name": "stderr",
     "output_type": "stream",
     "text": [
      "                                                                  \r"
     ]
    },
    {
     "name": "stdout",
     "output_type": "stream",
     "text": [
      "MoviePy - Done.\n",
      "Moviepy - Writing video D:/Sun'iyX/Data/Sliced/Add\\1224_cut_180_185.mp4\n",
      "\n"
     ]
    },
    {
     "name": "stderr",
     "output_type": "stream",
     "text": [
      "                                                               \r"
     ]
    },
    {
     "name": "stdout",
     "output_type": "stream",
     "text": [
      "Moviepy - Done !\n",
      "Moviepy - video ready D:/Sun'iyX/Data/Sliced/Add\\1224_cut_180_185.mp4\n",
      "Moviepy - Building video D:/Sun'iyX/Data/Sliced/Add\\1224_cut_185_190.mp4.\n",
      "MoviePy - Writing audio in 1224_cut_185_190TEMP_MPY_wvf_snd.mp3\n"
     ]
    },
    {
     "name": "stderr",
     "output_type": "stream",
     "text": [
      "                                                                  \r"
     ]
    },
    {
     "name": "stdout",
     "output_type": "stream",
     "text": [
      "MoviePy - Done.\n",
      "Moviepy - Writing video D:/Sun'iyX/Data/Sliced/Add\\1224_cut_185_190.mp4\n",
      "\n"
     ]
    },
    {
     "name": "stderr",
     "output_type": "stream",
     "text": [
      "                                                               \r"
     ]
    },
    {
     "name": "stdout",
     "output_type": "stream",
     "text": [
      "Moviepy - Done !\n",
      "Moviepy - video ready D:/Sun'iyX/Data/Sliced/Add\\1224_cut_185_190.mp4\n",
      "Moviepy - Building video D:/Sun'iyX/Data/Sliced/Add\\1224_cut_190_195.mp4.\n",
      "MoviePy - Writing audio in 1224_cut_190_195TEMP_MPY_wvf_snd.mp3\n"
     ]
    },
    {
     "name": "stderr",
     "output_type": "stream",
     "text": [
      "                                                                  \r"
     ]
    },
    {
     "name": "stdout",
     "output_type": "stream",
     "text": [
      "MoviePy - Done.\n",
      "Moviepy - Writing video D:/Sun'iyX/Data/Sliced/Add\\1224_cut_190_195.mp4\n",
      "\n"
     ]
    },
    {
     "name": "stderr",
     "output_type": "stream",
     "text": [
      "                                                              \r"
     ]
    },
    {
     "name": "stdout",
     "output_type": "stream",
     "text": [
      "Moviepy - Done !\n",
      "Moviepy - video ready D:/Sun'iyX/Data/Sliced/Add\\1224_cut_190_195.mp4\n",
      "Moviepy - Building video D:/Sun'iyX/Data/Sliced/Add\\1224_cut_195_200.mp4.\n",
      "MoviePy - Writing audio in 1224_cut_195_200TEMP_MPY_wvf_snd.mp3\n"
     ]
    },
    {
     "name": "stderr",
     "output_type": "stream",
     "text": [
      "                                                                  \r"
     ]
    },
    {
     "name": "stdout",
     "output_type": "stream",
     "text": [
      "MoviePy - Done.\n",
      "Moviepy - Writing video D:/Sun'iyX/Data/Sliced/Add\\1224_cut_195_200.mp4\n",
      "\n"
     ]
    },
    {
     "name": "stderr",
     "output_type": "stream",
     "text": [
      "                                                               \r"
     ]
    },
    {
     "name": "stdout",
     "output_type": "stream",
     "text": [
      "Moviepy - Done !\n",
      "Moviepy - video ready D:/Sun'iyX/Data/Sliced/Add\\1224_cut_195_200.mp4\n",
      "Moviepy - Building video D:/Sun'iyX/Data/Sliced/Add\\1224_cut_200_205.mp4.\n",
      "MoviePy - Writing audio in 1224_cut_200_205TEMP_MPY_wvf_snd.mp3\n"
     ]
    },
    {
     "name": "stderr",
     "output_type": "stream",
     "text": [
      "                                                                  \r"
     ]
    },
    {
     "name": "stdout",
     "output_type": "stream",
     "text": [
      "MoviePy - Done.\n",
      "Moviepy - Writing video D:/Sun'iyX/Data/Sliced/Add\\1224_cut_200_205.mp4\n",
      "\n"
     ]
    },
    {
     "name": "stderr",
     "output_type": "stream",
     "text": [
      "                                                               \r"
     ]
    },
    {
     "name": "stdout",
     "output_type": "stream",
     "text": [
      "Moviepy - Done !\n",
      "Moviepy - video ready D:/Sun'iyX/Data/Sliced/Add\\1224_cut_200_205.mp4\n",
      "Moviepy - Building video D:/Sun'iyX/Data/Sliced/Add\\1224_cut_205_210.mp4.\n",
      "MoviePy - Writing audio in 1224_cut_205_210TEMP_MPY_wvf_snd.mp3\n"
     ]
    },
    {
     "name": "stderr",
     "output_type": "stream",
     "text": [
      "                                                                  \r"
     ]
    },
    {
     "name": "stdout",
     "output_type": "stream",
     "text": [
      "MoviePy - Done.\n",
      "Moviepy - Writing video D:/Sun'iyX/Data/Sliced/Add\\1224_cut_205_210.mp4\n",
      "\n"
     ]
    },
    {
     "name": "stderr",
     "output_type": "stream",
     "text": [
      "                                                               \r"
     ]
    },
    {
     "name": "stdout",
     "output_type": "stream",
     "text": [
      "Moviepy - Done !\n",
      "Moviepy - video ready D:/Sun'iyX/Data/Sliced/Add\\1224_cut_205_210.mp4\n",
      "Moviepy - Building video D:/Sun'iyX/Data/Sliced/Add\\1224_cut_210_215.mp4.\n",
      "MoviePy - Writing audio in 1224_cut_210_215TEMP_MPY_wvf_snd.mp3\n"
     ]
    },
    {
     "name": "stderr",
     "output_type": "stream",
     "text": [
      "                                                                  \r"
     ]
    },
    {
     "name": "stdout",
     "output_type": "stream",
     "text": [
      "MoviePy - Done.\n",
      "Moviepy - Writing video D:/Sun'iyX/Data/Sliced/Add\\1224_cut_210_215.mp4\n",
      "\n"
     ]
    },
    {
     "name": "stderr",
     "output_type": "stream",
     "text": [
      "                                                               \r"
     ]
    },
    {
     "name": "stdout",
     "output_type": "stream",
     "text": [
      "Moviepy - Done !\n",
      "Moviepy - video ready D:/Sun'iyX/Data/Sliced/Add\\1224_cut_210_215.mp4\n",
      "Moviepy - Building video D:/Sun'iyX/Data/Sliced/Add\\1224_cut_215_220.mp4.\n",
      "MoviePy - Writing audio in 1224_cut_215_220TEMP_MPY_wvf_snd.mp3\n"
     ]
    },
    {
     "name": "stderr",
     "output_type": "stream",
     "text": [
      "                                                                  \r"
     ]
    },
    {
     "name": "stdout",
     "output_type": "stream",
     "text": [
      "MoviePy - Done.\n",
      "Moviepy - Writing video D:/Sun'iyX/Data/Sliced/Add\\1224_cut_215_220.mp4\n",
      "\n"
     ]
    },
    {
     "name": "stderr",
     "output_type": "stream",
     "text": [
      "                                                               \r"
     ]
    },
    {
     "name": "stdout",
     "output_type": "stream",
     "text": [
      "Moviepy - Done !\n",
      "Moviepy - video ready D:/Sun'iyX/Data/Sliced/Add\\1224_cut_215_220.mp4\n",
      "Moviepy - Building video D:/Sun'iyX/Data/Sliced/Add\\1224_cut_220_225.mp4.\n",
      "MoviePy - Writing audio in 1224_cut_220_225TEMP_MPY_wvf_snd.mp3\n"
     ]
    },
    {
     "name": "stderr",
     "output_type": "stream",
     "text": [
      "                                                                  \r"
     ]
    },
    {
     "name": "stdout",
     "output_type": "stream",
     "text": [
      "MoviePy - Done.\n",
      "Moviepy - Writing video D:/Sun'iyX/Data/Sliced/Add\\1224_cut_220_225.mp4\n",
      "\n"
     ]
    },
    {
     "name": "stderr",
     "output_type": "stream",
     "text": [
      "                                                               \r"
     ]
    },
    {
     "name": "stdout",
     "output_type": "stream",
     "text": [
      "Moviepy - Done !\n",
      "Moviepy - video ready D:/Sun'iyX/Data/Sliced/Add\\1224_cut_220_225.mp4\n",
      "Moviepy - Building video D:/Sun'iyX/Data/Sliced/Add\\1224_cut_225_230.mp4.\n",
      "MoviePy - Writing audio in 1224_cut_225_230TEMP_MPY_wvf_snd.mp3\n"
     ]
    },
    {
     "name": "stderr",
     "output_type": "stream",
     "text": [
      "                                                                  \r"
     ]
    },
    {
     "name": "stdout",
     "output_type": "stream",
     "text": [
      "MoviePy - Done.\n",
      "Moviepy - Writing video D:/Sun'iyX/Data/Sliced/Add\\1224_cut_225_230.mp4\n",
      "\n"
     ]
    },
    {
     "name": "stderr",
     "output_type": "stream",
     "text": [
      "                                                               \r"
     ]
    },
    {
     "name": "stdout",
     "output_type": "stream",
     "text": [
      "Moviepy - Done !\n",
      "Moviepy - video ready D:/Sun'iyX/Data/Sliced/Add\\1224_cut_225_230.mp4\n",
      "Moviepy - Building video D:/Sun'iyX/Data/Sliced/Add\\1224_cut_230_235.mp4.\n",
      "MoviePy - Writing audio in 1224_cut_230_235TEMP_MPY_wvf_snd.mp3\n"
     ]
    },
    {
     "name": "stderr",
     "output_type": "stream",
     "text": [
      "                                                                  \r"
     ]
    },
    {
     "name": "stdout",
     "output_type": "stream",
     "text": [
      "MoviePy - Done.\n",
      "Moviepy - Writing video D:/Sun'iyX/Data/Sliced/Add\\1224_cut_230_235.mp4\n",
      "\n"
     ]
    },
    {
     "name": "stderr",
     "output_type": "stream",
     "text": [
      "                                                               \r"
     ]
    },
    {
     "name": "stdout",
     "output_type": "stream",
     "text": [
      "Moviepy - Done !\n",
      "Moviepy - video ready D:/Sun'iyX/Data/Sliced/Add\\1224_cut_230_235.mp4\n",
      "Moviepy - Building video D:/Sun'iyX/Data/Sliced/Add\\1224_cut_235_240.mp4.\n",
      "MoviePy - Writing audio in 1224_cut_235_240TEMP_MPY_wvf_snd.mp3\n"
     ]
    },
    {
     "name": "stderr",
     "output_type": "stream",
     "text": [
      "                                                                  \r"
     ]
    },
    {
     "name": "stdout",
     "output_type": "stream",
     "text": [
      "MoviePy - Done.\n",
      "Moviepy - Writing video D:/Sun'iyX/Data/Sliced/Add\\1224_cut_235_240.mp4\n",
      "\n"
     ]
    },
    {
     "name": "stderr",
     "output_type": "stream",
     "text": [
      "                                                               \r"
     ]
    },
    {
     "name": "stdout",
     "output_type": "stream",
     "text": [
      "Moviepy - Done !\n",
      "Moviepy - video ready D:/Sun'iyX/Data/Sliced/Add\\1224_cut_235_240.mp4\n",
      "Moviepy - Building video D:/Sun'iyX/Data/Sliced/Add\\1224_cut_240_245.mp4.\n",
      "MoviePy - Writing audio in 1224_cut_240_245TEMP_MPY_wvf_snd.mp3\n"
     ]
    },
    {
     "name": "stderr",
     "output_type": "stream",
     "text": [
      "                                                                  \r"
     ]
    },
    {
     "name": "stdout",
     "output_type": "stream",
     "text": [
      "MoviePy - Done.\n",
      "Moviepy - Writing video D:/Sun'iyX/Data/Sliced/Add\\1224_cut_240_245.mp4\n",
      "\n"
     ]
    },
    {
     "name": "stderr",
     "output_type": "stream",
     "text": [
      "                                                               \r"
     ]
    },
    {
     "name": "stdout",
     "output_type": "stream",
     "text": [
      "Moviepy - Done !\n",
      "Moviepy - video ready D:/Sun'iyX/Data/Sliced/Add\\1224_cut_240_245.mp4\n",
      "Moviepy - Building video D:/Sun'iyX/Data/Sliced/Add\\1224_cut_245_250.mp4.\n",
      "MoviePy - Writing audio in 1224_cut_245_250TEMP_MPY_wvf_snd.mp3\n"
     ]
    },
    {
     "name": "stderr",
     "output_type": "stream",
     "text": [
      "                                                                  \r"
     ]
    },
    {
     "name": "stdout",
     "output_type": "stream",
     "text": [
      "MoviePy - Done.\n",
      "Moviepy - Writing video D:/Sun'iyX/Data/Sliced/Add\\1224_cut_245_250.mp4\n",
      "\n"
     ]
    },
    {
     "name": "stderr",
     "output_type": "stream",
     "text": [
      "                                                               \r"
     ]
    },
    {
     "name": "stdout",
     "output_type": "stream",
     "text": [
      "Moviepy - Done !\n",
      "Moviepy - video ready D:/Sun'iyX/Data/Sliced/Add\\1224_cut_245_250.mp4\n",
      "Moviepy - Building video D:/Sun'iyX/Data/Sliced/Add\\1224_cut_250_255.mp4.\n",
      "MoviePy - Writing audio in 1224_cut_250_255TEMP_MPY_wvf_snd.mp3\n"
     ]
    },
    {
     "name": "stderr",
     "output_type": "stream",
     "text": [
      "                                                                  \r"
     ]
    },
    {
     "name": "stdout",
     "output_type": "stream",
     "text": [
      "MoviePy - Done.\n",
      "Moviepy - Writing video D:/Sun'iyX/Data/Sliced/Add\\1224_cut_250_255.mp4\n",
      "\n"
     ]
    },
    {
     "name": "stderr",
     "output_type": "stream",
     "text": [
      "                                                               \r"
     ]
    },
    {
     "name": "stdout",
     "output_type": "stream",
     "text": [
      "Moviepy - Done !\n",
      "Moviepy - video ready D:/Sun'iyX/Data/Sliced/Add\\1224_cut_250_255.mp4\n",
      "Moviepy - Building video D:/Sun'iyX/Data/Sliced/Add\\1224_cut_255_260.mp4.\n",
      "MoviePy - Writing audio in 1224_cut_255_260TEMP_MPY_wvf_snd.mp3\n"
     ]
    },
    {
     "name": "stderr",
     "output_type": "stream",
     "text": [
      "                                                                  "
     ]
    },
    {
     "name": "stdout",
     "output_type": "stream",
     "text": [
      "MoviePy - Done."
     ]
    },
    {
     "name": "stderr",
     "output_type": "stream",
     "text": [
      "\r"
     ]
    },
    {
     "name": "stdout",
     "output_type": "stream",
     "text": [
      "\n",
      "Moviepy - Writing video D:/Sun'iyX/Data/Sliced/Add\\1224_cut_255_260.mp4\n",
      "\n"
     ]
    },
    {
     "name": "stderr",
     "output_type": "stream",
     "text": [
      "                                                              \r"
     ]
    },
    {
     "name": "stdout",
     "output_type": "stream",
     "text": [
      "Moviepy - Done !\n",
      "Moviepy - video ready D:/Sun'iyX/Data/Sliced/Add\\1224_cut_255_260.mp4\n",
      "Moviepy - Building video D:/Sun'iyX/Data/Sliced/Add\\1224_cut_260_265.mp4.\n",
      "MoviePy - Writing audio in 1224_cut_260_265TEMP_MPY_wvf_snd.mp3\n"
     ]
    },
    {
     "name": "stderr",
     "output_type": "stream",
     "text": [
      "                                                                  \r"
     ]
    },
    {
     "name": "stdout",
     "output_type": "stream",
     "text": [
      "MoviePy - Done.\n",
      "Moviepy - Writing video D:/Sun'iyX/Data/Sliced/Add\\1224_cut_260_265.mp4\n",
      "\n"
     ]
    },
    {
     "name": "stderr",
     "output_type": "stream",
     "text": [
      "                                                               \r"
     ]
    },
    {
     "name": "stdout",
     "output_type": "stream",
     "text": [
      "Moviepy - Done !\n",
      "Moviepy - video ready D:/Sun'iyX/Data/Sliced/Add\\1224_cut_260_265.mp4\n",
      "Moviepy - Building video D:/Sun'iyX/Data/Sliced/Add\\1224_cut_265_270.mp4.\n",
      "MoviePy - Writing audio in 1224_cut_265_270TEMP_MPY_wvf_snd.mp3\n"
     ]
    },
    {
     "name": "stderr",
     "output_type": "stream",
     "text": [
      "                                                                  \r"
     ]
    },
    {
     "name": "stdout",
     "output_type": "stream",
     "text": [
      "MoviePy - Done.\n",
      "Moviepy - Writing video D:/Sun'iyX/Data/Sliced/Add\\1224_cut_265_270.mp4\n",
      "\n"
     ]
    },
    {
     "name": "stderr",
     "output_type": "stream",
     "text": [
      "                                                               \r"
     ]
    },
    {
     "name": "stdout",
     "output_type": "stream",
     "text": [
      "Moviepy - Done !\n",
      "Moviepy - video ready D:/Sun'iyX/Data/Sliced/Add\\1224_cut_265_270.mp4\n",
      "Moviepy - Building video D:/Sun'iyX/Data/Sliced/Add\\1224_cut_270_275.mp4.\n",
      "MoviePy - Writing audio in 1224_cut_270_275TEMP_MPY_wvf_snd.mp3\n"
     ]
    },
    {
     "name": "stderr",
     "output_type": "stream",
     "text": [
      "                                                                  \r"
     ]
    },
    {
     "name": "stdout",
     "output_type": "stream",
     "text": [
      "MoviePy - Done.\n",
      "Moviepy - Writing video D:/Sun'iyX/Data/Sliced/Add\\1224_cut_270_275.mp4\n",
      "\n"
     ]
    },
    {
     "name": "stderr",
     "output_type": "stream",
     "text": [
      "                                                               \r"
     ]
    },
    {
     "name": "stdout",
     "output_type": "stream",
     "text": [
      "Moviepy - Done !\n",
      "Moviepy - video ready D:/Sun'iyX/Data/Sliced/Add\\1224_cut_270_275.mp4\n",
      "Moviepy - Building video D:/Sun'iyX/Data/Sliced/Add\\1224_cut_275_280.mp4.\n",
      "MoviePy - Writing audio in 1224_cut_275_280TEMP_MPY_wvf_snd.mp3\n"
     ]
    },
    {
     "name": "stderr",
     "output_type": "stream",
     "text": [
      "                                                                  \r"
     ]
    },
    {
     "name": "stdout",
     "output_type": "stream",
     "text": [
      "MoviePy - Done.\n",
      "Moviepy - Writing video D:/Sun'iyX/Data/Sliced/Add\\1224_cut_275_280.mp4\n",
      "\n"
     ]
    },
    {
     "name": "stderr",
     "output_type": "stream",
     "text": [
      "                                                               \r"
     ]
    },
    {
     "name": "stdout",
     "output_type": "stream",
     "text": [
      "Moviepy - Done !\n",
      "Moviepy - video ready D:/Sun'iyX/Data/Sliced/Add\\1224_cut_275_280.mp4\n",
      "Moviepy - Building video D:/Sun'iyX/Data/Sliced/Add\\1224_cut_280_285.mp4.\n",
      "MoviePy - Writing audio in 1224_cut_280_285TEMP_MPY_wvf_snd.mp3\n"
     ]
    },
    {
     "name": "stderr",
     "output_type": "stream",
     "text": [
      "                                                                  \r"
     ]
    },
    {
     "name": "stdout",
     "output_type": "stream",
     "text": [
      "MoviePy - Done.\n",
      "Moviepy - Writing video D:/Sun'iyX/Data/Sliced/Add\\1224_cut_280_285.mp4\n",
      "\n"
     ]
    },
    {
     "name": "stderr",
     "output_type": "stream",
     "text": [
      "                                                              \r"
     ]
    },
    {
     "name": "stdout",
     "output_type": "stream",
     "text": [
      "Moviepy - Done !\n",
      "Moviepy - video ready D:/Sun'iyX/Data/Sliced/Add\\1224_cut_280_285.mp4\n",
      "Moviepy - Building video D:/Sun'iyX/Data/Sliced/Add\\1224_cut_285_290.mp4.\n",
      "MoviePy - Writing audio in 1224_cut_285_290TEMP_MPY_wvf_snd.mp3\n"
     ]
    },
    {
     "name": "stderr",
     "output_type": "stream",
     "text": [
      "                                                                  \r"
     ]
    },
    {
     "name": "stdout",
     "output_type": "stream",
     "text": [
      "MoviePy - Done.\n",
      "Moviepy - Writing video D:/Sun'iyX/Data/Sliced/Add\\1224_cut_285_290.mp4\n",
      "\n"
     ]
    },
    {
     "name": "stderr",
     "output_type": "stream",
     "text": [
      "                                                              \r"
     ]
    },
    {
     "name": "stdout",
     "output_type": "stream",
     "text": [
      "Moviepy - Done !\n",
      "Moviepy - video ready D:/Sun'iyX/Data/Sliced/Add\\1224_cut_285_290.mp4\n",
      "Moviepy - Building video D:/Sun'iyX/Data/Sliced/Add\\1224_cut_290_295.mp4.\n",
      "MoviePy - Writing audio in 1224_cut_290_295TEMP_MPY_wvf_snd.mp3\n"
     ]
    },
    {
     "name": "stderr",
     "output_type": "stream",
     "text": [
      "                                                                  \r"
     ]
    },
    {
     "name": "stdout",
     "output_type": "stream",
     "text": [
      "MoviePy - Done.\n",
      "Moviepy - Writing video D:/Sun'iyX/Data/Sliced/Add\\1224_cut_290_295.mp4\n",
      "\n"
     ]
    },
    {
     "name": "stderr",
     "output_type": "stream",
     "text": [
      "                                                               \r"
     ]
    },
    {
     "name": "stdout",
     "output_type": "stream",
     "text": [
      "Moviepy - Done !\n",
      "Moviepy - video ready D:/Sun'iyX/Data/Sliced/Add\\1224_cut_290_295.mp4\n",
      "Moviepy - Building video D:/Sun'iyX/Data/Sliced/Add\\1224_cut_295_300.mp4.\n",
      "MoviePy - Writing audio in 1224_cut_295_300TEMP_MPY_wvf_snd.mp3\n"
     ]
    },
    {
     "name": "stderr",
     "output_type": "stream",
     "text": [
      "                                                                  \r"
     ]
    },
    {
     "name": "stdout",
     "output_type": "stream",
     "text": [
      "MoviePy - Done.\n",
      "Moviepy - Writing video D:/Sun'iyX/Data/Sliced/Add\\1224_cut_295_300.mp4\n",
      "\n"
     ]
    },
    {
     "name": "stderr",
     "output_type": "stream",
     "text": [
      "                                                               \r"
     ]
    },
    {
     "name": "stdout",
     "output_type": "stream",
     "text": [
      "Moviepy - Done !\n",
      "Moviepy - video ready D:/Sun'iyX/Data/Sliced/Add\\1224_cut_295_300.mp4\n",
      "Moviepy - Building video D:/Sun'iyX/Data/Sliced/Add\\1224_cut_300_305.mp4.\n",
      "MoviePy - Writing audio in 1224_cut_300_305TEMP_MPY_wvf_snd.mp3\n"
     ]
    },
    {
     "name": "stderr",
     "output_type": "stream",
     "text": [
      "                                                                  \r"
     ]
    },
    {
     "name": "stdout",
     "output_type": "stream",
     "text": [
      "MoviePy - Done.\n",
      "Moviepy - Writing video D:/Sun'iyX/Data/Sliced/Add\\1224_cut_300_305.mp4\n",
      "\n"
     ]
    },
    {
     "name": "stderr",
     "output_type": "stream",
     "text": [
      "                                                              \r"
     ]
    },
    {
     "name": "stdout",
     "output_type": "stream",
     "text": [
      "Moviepy - Done !\n",
      "Moviepy - video ready D:/Sun'iyX/Data/Sliced/Add\\1224_cut_300_305.mp4\n",
      "Moviepy - Building video D:/Sun'iyX/Data/Sliced/Add\\1224_cut_305_310.mp4.\n",
      "MoviePy - Writing audio in 1224_cut_305_310TEMP_MPY_wvf_snd.mp3\n"
     ]
    },
    {
     "name": "stderr",
     "output_type": "stream",
     "text": [
      "                                                                  \r"
     ]
    },
    {
     "name": "stdout",
     "output_type": "stream",
     "text": [
      "MoviePy - Done.\n",
      "Moviepy - Writing video D:/Sun'iyX/Data/Sliced/Add\\1224_cut_305_310.mp4\n",
      "\n"
     ]
    },
    {
     "name": "stderr",
     "output_type": "stream",
     "text": [
      "                                                              \r"
     ]
    },
    {
     "name": "stdout",
     "output_type": "stream",
     "text": [
      "Moviepy - Done !\n",
      "Moviepy - video ready D:/Sun'iyX/Data/Sliced/Add\\1224_cut_305_310.mp4\n",
      "Moviepy - Building video D:/Sun'iyX/Data/Sliced/Add\\1224_cut_310_315.mp4.\n",
      "MoviePy - Writing audio in 1224_cut_310_315TEMP_MPY_wvf_snd.mp3\n"
     ]
    },
    {
     "name": "stderr",
     "output_type": "stream",
     "text": [
      "                                                                  \r"
     ]
    },
    {
     "name": "stdout",
     "output_type": "stream",
     "text": [
      "MoviePy - Done.\n",
      "Moviepy - Writing video D:/Sun'iyX/Data/Sliced/Add\\1224_cut_310_315.mp4\n",
      "\n"
     ]
    },
    {
     "name": "stderr",
     "output_type": "stream",
     "text": [
      "                                                               \r"
     ]
    },
    {
     "name": "stdout",
     "output_type": "stream",
     "text": [
      "Moviepy - Done !\n",
      "Moviepy - video ready D:/Sun'iyX/Data/Sliced/Add\\1224_cut_310_315.mp4\n",
      "Moviepy - Building video D:/Sun'iyX/Data/Sliced/Add\\1224_cut_315_320.mp4.\n",
      "MoviePy - Writing audio in 1224_cut_315_320TEMP_MPY_wvf_snd.mp3\n"
     ]
    },
    {
     "name": "stderr",
     "output_type": "stream",
     "text": [
      "                                                                  \r"
     ]
    },
    {
     "name": "stdout",
     "output_type": "stream",
     "text": [
      "MoviePy - Done.\n",
      "Moviepy - Writing video D:/Sun'iyX/Data/Sliced/Add\\1224_cut_315_320.mp4\n",
      "\n"
     ]
    },
    {
     "name": "stderr",
     "output_type": "stream",
     "text": [
      "                                                               \r"
     ]
    },
    {
     "name": "stdout",
     "output_type": "stream",
     "text": [
      "Moviepy - Done !\n",
      "Moviepy - video ready D:/Sun'iyX/Data/Sliced/Add\\1224_cut_315_320.mp4\n",
      "Moviepy - Building video D:/Sun'iyX/Data/Sliced/Add\\1224_cut_320_325.mp4.\n",
      "MoviePy - Writing audio in 1224_cut_320_325TEMP_MPY_wvf_snd.mp3\n"
     ]
    },
    {
     "name": "stderr",
     "output_type": "stream",
     "text": [
      "                                                                  \r"
     ]
    },
    {
     "name": "stdout",
     "output_type": "stream",
     "text": [
      "MoviePy - Done.\n",
      "Moviepy - Writing video D:/Sun'iyX/Data/Sliced/Add\\1224_cut_320_325.mp4\n",
      "\n"
     ]
    },
    {
     "name": "stderr",
     "output_type": "stream",
     "text": [
      "                                                               \r"
     ]
    },
    {
     "name": "stdout",
     "output_type": "stream",
     "text": [
      "Moviepy - Done !\n",
      "Moviepy - video ready D:/Sun'iyX/Data/Sliced/Add\\1224_cut_320_325.mp4\n",
      "Moviepy - Building video D:/Sun'iyX/Data/Sliced/Add\\1224_cut_325_330.mp4.\n",
      "MoviePy - Writing audio in 1224_cut_325_330TEMP_MPY_wvf_snd.mp3\n"
     ]
    },
    {
     "name": "stderr",
     "output_type": "stream",
     "text": [
      "                                                                  \r"
     ]
    },
    {
     "name": "stdout",
     "output_type": "stream",
     "text": [
      "MoviePy - Done.\n",
      "Moviepy - Writing video D:/Sun'iyX/Data/Sliced/Add\\1224_cut_325_330.mp4\n",
      "\n"
     ]
    },
    {
     "name": "stderr",
     "output_type": "stream",
     "text": [
      "                                                               \r"
     ]
    },
    {
     "name": "stdout",
     "output_type": "stream",
     "text": [
      "Moviepy - Done !\n",
      "Moviepy - video ready D:/Sun'iyX/Data/Sliced/Add\\1224_cut_325_330.mp4\n",
      "Moviepy - Building video D:/Sun'iyX/Data/Sliced/Add\\1224_cut_330_335.mp4.\n",
      "MoviePy - Writing audio in 1224_cut_330_335TEMP_MPY_wvf_snd.mp3\n"
     ]
    },
    {
     "name": "stderr",
     "output_type": "stream",
     "text": [
      "                                                                  \r"
     ]
    },
    {
     "name": "stdout",
     "output_type": "stream",
     "text": [
      "MoviePy - Done.\n",
      "Moviepy - Writing video D:/Sun'iyX/Data/Sliced/Add\\1224_cut_330_335.mp4\n",
      "\n"
     ]
    },
    {
     "name": "stderr",
     "output_type": "stream",
     "text": [
      "                                                               \r"
     ]
    },
    {
     "name": "stdout",
     "output_type": "stream",
     "text": [
      "Moviepy - Done !\n",
      "Moviepy - video ready D:/Sun'iyX/Data/Sliced/Add\\1224_cut_330_335.mp4\n",
      "Moviepy - Building video D:/Sun'iyX/Data/Sliced/Add\\1224_cut_335_340.mp4.\n",
      "MoviePy - Writing audio in 1224_cut_335_340TEMP_MPY_wvf_snd.mp3\n"
     ]
    },
    {
     "name": "stderr",
     "output_type": "stream",
     "text": [
      "                                                                  \r"
     ]
    },
    {
     "name": "stdout",
     "output_type": "stream",
     "text": [
      "MoviePy - Done.\n",
      "Moviepy - Writing video D:/Sun'iyX/Data/Sliced/Add\\1224_cut_335_340.mp4\n",
      "\n"
     ]
    },
    {
     "name": "stderr",
     "output_type": "stream",
     "text": [
      "                                                               \r"
     ]
    },
    {
     "name": "stdout",
     "output_type": "stream",
     "text": [
      "Moviepy - Done !\n",
      "Moviepy - video ready D:/Sun'iyX/Data/Sliced/Add\\1224_cut_335_340.mp4\n",
      "Moviepy - Building video D:/Sun'iyX/Data/Sliced/Add\\1224_cut_340_345.mp4.\n",
      "MoviePy - Writing audio in 1224_cut_340_345TEMP_MPY_wvf_snd.mp3\n"
     ]
    },
    {
     "name": "stderr",
     "output_type": "stream",
     "text": [
      "                                                                  \r"
     ]
    },
    {
     "name": "stdout",
     "output_type": "stream",
     "text": [
      "MoviePy - Done.\n",
      "Moviepy - Writing video D:/Sun'iyX/Data/Sliced/Add\\1224_cut_340_345.mp4\n",
      "\n"
     ]
    },
    {
     "name": "stderr",
     "output_type": "stream",
     "text": [
      "                                                               \r"
     ]
    },
    {
     "name": "stdout",
     "output_type": "stream",
     "text": [
      "Moviepy - Done !\n",
      "Moviepy - video ready D:/Sun'iyX/Data/Sliced/Add\\1224_cut_340_345.mp4\n",
      "Moviepy - Building video D:/Sun'iyX/Data/Sliced/Add\\1224_cut_345_350.mp4.\n",
      "MoviePy - Writing audio in 1224_cut_345_350TEMP_MPY_wvf_snd.mp3\n"
     ]
    },
    {
     "name": "stderr",
     "output_type": "stream",
     "text": [
      "                                                                  \r"
     ]
    },
    {
     "name": "stdout",
     "output_type": "stream",
     "text": [
      "MoviePy - Done.\n",
      "Moviepy - Writing video D:/Sun'iyX/Data/Sliced/Add\\1224_cut_345_350.mp4\n",
      "\n"
     ]
    },
    {
     "name": "stderr",
     "output_type": "stream",
     "text": [
      "                                                               \r"
     ]
    },
    {
     "name": "stdout",
     "output_type": "stream",
     "text": [
      "Moviepy - Done !\n",
      "Moviepy - video ready D:/Sun'iyX/Data/Sliced/Add\\1224_cut_345_350.mp4\n",
      "Moviepy - Building video D:/Sun'iyX/Data/Sliced/Add\\1224_cut_350_355.mp4.\n",
      "MoviePy - Writing audio in 1224_cut_350_355TEMP_MPY_wvf_snd.mp3\n"
     ]
    },
    {
     "name": "stderr",
     "output_type": "stream",
     "text": [
      "                                                                  \r"
     ]
    },
    {
     "name": "stdout",
     "output_type": "stream",
     "text": [
      "MoviePy - Done.\n",
      "Moviepy - Writing video D:/Sun'iyX/Data/Sliced/Add\\1224_cut_350_355.mp4\n",
      "\n"
     ]
    },
    {
     "name": "stderr",
     "output_type": "stream",
     "text": [
      "                                                               \r"
     ]
    },
    {
     "name": "stdout",
     "output_type": "stream",
     "text": [
      "Moviepy - Done !\n",
      "Moviepy - video ready D:/Sun'iyX/Data/Sliced/Add\\1224_cut_350_355.mp4\n",
      "Moviepy - Building video D:/Sun'iyX/Data/Sliced/Add\\1224_cut_355_360.mp4.\n",
      "MoviePy - Writing audio in 1224_cut_355_360TEMP_MPY_wvf_snd.mp3\n"
     ]
    },
    {
     "name": "stderr",
     "output_type": "stream",
     "text": [
      "                                                                  \r"
     ]
    },
    {
     "name": "stdout",
     "output_type": "stream",
     "text": [
      "MoviePy - Done.\n",
      "Moviepy - Writing video D:/Sun'iyX/Data/Sliced/Add\\1224_cut_355_360.mp4\n",
      "\n"
     ]
    },
    {
     "name": "stderr",
     "output_type": "stream",
     "text": [
      "                                                               \r"
     ]
    },
    {
     "name": "stdout",
     "output_type": "stream",
     "text": [
      "Moviepy - Done !\n",
      "Moviepy - video ready D:/Sun'iyX/Data/Sliced/Add\\1224_cut_355_360.mp4\n",
      "Moviepy - Building video D:/Sun'iyX/Data/Sliced/Add\\1224_cut_360_365.mp4.\n",
      "MoviePy - Writing audio in 1224_cut_360_365TEMP_MPY_wvf_snd.mp3\n"
     ]
    },
    {
     "name": "stderr",
     "output_type": "stream",
     "text": [
      "                                                                  \r"
     ]
    },
    {
     "name": "stdout",
     "output_type": "stream",
     "text": [
      "MoviePy - Done.\n",
      "Moviepy - Writing video D:/Sun'iyX/Data/Sliced/Add\\1224_cut_360_365.mp4\n",
      "\n"
     ]
    },
    {
     "name": "stderr",
     "output_type": "stream",
     "text": [
      "                                                               \r"
     ]
    },
    {
     "name": "stdout",
     "output_type": "stream",
     "text": [
      "Moviepy - Done !\n",
      "Moviepy - video ready D:/Sun'iyX/Data/Sliced/Add\\1224_cut_360_365.mp4\n",
      "Moviepy - Building video D:/Sun'iyX/Data/Sliced/Add\\1224_cut_365_370.mp4.\n",
      "MoviePy - Writing audio in 1224_cut_365_370TEMP_MPY_wvf_snd.mp3\n"
     ]
    },
    {
     "name": "stderr",
     "output_type": "stream",
     "text": [
      "                                                                  \r"
     ]
    },
    {
     "name": "stdout",
     "output_type": "stream",
     "text": [
      "MoviePy - Done.\n",
      "Moviepy - Writing video D:/Sun'iyX/Data/Sliced/Add\\1224_cut_365_370.mp4\n",
      "\n"
     ]
    },
    {
     "name": "stderr",
     "output_type": "stream",
     "text": [
      "                                                               \r"
     ]
    },
    {
     "name": "stdout",
     "output_type": "stream",
     "text": [
      "Moviepy - Done !\n",
      "Moviepy - video ready D:/Sun'iyX/Data/Sliced/Add\\1224_cut_365_370.mp4\n"
     ]
    }
   ],
   "source": [
    "\n",
    "def cut_videos(input_directory, output_directory):\n",
    "    # Ensure output directory exists\n",
    "    if not os.path.exists(output_directory):\n",
    "        os.makedirs(output_directory)\n",
    "\n",
    "    # List all files in the input directory\n",
    "    video_files = [f for f in os.listdir(input_directory) if f.endswith(('.mp4', '.avi', '.mkv'))]\n",
    "\n",
    "    for video_file in video_files:\n",
    "        input_path = os.path.join(input_directory, video_file)\n",
    "        output_path = os.path.join(output_directory, f\"{os.path.splitext(video_file)[0]}_cut_\")\n",
    "\n",
    "        # Open the video file\n",
    "        clip = VideoFileClip(input_path)\n",
    "\n",
    "        # Calculate the duration of the video in seconds\n",
    "        video_duration = clip.duration\n",
    "\n",
    "        # Cut the video into 5-second clips\n",
    "        for i in range(0, int(video_duration), 5):\n",
    "            start_time = i\n",
    "            end_time = min(i + 5, video_duration)\n",
    "\n",
    "            # Extract the subclip\n",
    "            subclip = clip.subclip(start_time, end_time)\n",
    "\n",
    "            # Save the subclip\n",
    "            subclip_output_path = f\"{output_path}{i}_{end_time}.mp4\"\n",
    "            subclip.write_videofile(subclip_output_path, codec=\"libx264\")\n",
    "\n",
    "        # Close the video clip\n",
    "        clip.close()\n",
    "\n",
    "if __name__ == \"__main__\":\n",
    "    input_directory = \"D:/Sun'iyX/Data/Test/Advertisement\"\n",
    "    output_directory = \"D:/Sun'iyX/Data/Sliced/Add\"\n",
    "\n",
    "    cut_videos(input_directory, output_directory)\n"
   ]
  }
 ],
 "metadata": {
  "kernelspec": {
   "display_name": "ML-qnch7FHx",
   "language": "python",
   "name": "python3"
  },
  "language_info": {
   "codemirror_mode": {
    "name": "ipython",
    "version": 3
   },
   "file_extension": ".py",
   "mimetype": "text/x-python",
   "name": "python",
   "nbconvert_exporter": "python",
   "pygments_lexer": "ipython3",
   "version": "3.11.7"
  }
 },
 "nbformat": 4,
 "nbformat_minor": 2
}
